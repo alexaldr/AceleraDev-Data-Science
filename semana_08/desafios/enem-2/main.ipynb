{
  "nbformat": 4,
  "nbformat_minor": 0,
  "metadata": {
    "colab": {
      "name": "AceleraDev.ipynb",
      "provenance": [],
      "collapsed_sections": [],
      "toc_visible": true,
      "machine_shape": "hm"
    },
    "kernelspec": {
      "name": "python3",
      "display_name": "Python 3"
    },
    "accelerator": "GPU"
  },
  "cells": [
    {
      "cell_type": "markdown",
      "metadata": {
        "id": "vN8xGj19ur3o",
        "colab_type": "text"
      },
      "source": [
        "# Desafio AceleraDev\n",
        "\n",
        "![Logo CodeNation](https://www.codenation.dev/_nuxt/img/9bd98ba.svg)\n",
        "\n",
        "# Descubra as melhores notas de matemática do ENEM 2016\n",
        "\n",
        "Você deverá criar um modelo para prever a nota da prova de matemática de quem participou do ENEM 2016.\n",
        "\n",
        "## Tópicos\n",
        "\n",
        "Neste desafio você aprenderá:\n",
        "\n",
        "- Lógica\n",
        "- Análise de dados\n",
        "- Estatística\n",
        "- Regression\n",
        "\n",
        "## Detalhes\n",
        "\n",
        "O contexto do desafio gira em torno dos resultados do ENEM 2016 (disponíveis no arquivo train.csv). Este arquivo, e apenas ele, deve ser utilizado para todos os desafios. Qualquer dúvida a respeito das colunas, consulte o [Dicionário dos Microdados do Enem 2016](https://s3-us-west-1.amazonaws.com/acceleration-assets-highway/data-science/dicionario-de-dados.zip).\n",
        "\n",
        "Muitas universidades brasileiras utilizam o ENEM para selecionar seus futuros alunos e alunas. Isto é feito com uma média ponderada das notas das provas de matemática, ciências da natureza, linguagens e códigos, ciências humanas e redação, com os pesos abaixo:\n",
        "\n",
        "- matemática: 3\n",
        "- ciências da natureza: 2\n",
        "- linguagens e códigos: 1.5\n",
        "- ciências humanas: 1\n",
        "- redação: 3\n",
        "\n",
        "No arquivo test.csv crie um modelo para prever nota da prova de matemática (coluna **NU_NOTA_MT**) de quem participou do ENEM 2016. \n",
        "\n",
        "Salve sua resposta em um arquivo chamado answer.csv com duas colunas: **NU_INSCRICAO** e **NU_NOTA_MT**.\n",
        "\n",
        "Faça o upload do arquivo answer.csv usando o botão \"Submeter resposta\".\n",
        "\n",
        "## Observações\n",
        "\n",
        "O objetivo do desafio é avaliar a sua capacidade de resolver problemas, então ele pode ser resolvido em qualquer linguagem de programação ou ferramenta que você tenha facilidade. Mas recomendamos o uso de linguagens com maior ferramental de matemática e estatística como Python, R, Scala ou Julia."
      ]
    },
    {
      "cell_type": "code",
      "metadata": {
        "id": "8ov0AGxLsOOA",
        "colab_type": "code",
        "colab": {
          "base_uri": "https://localhost:8080/",
          "height": 73
        },
        "outputId": "77adc010-cc7e-4985-c695-7861168acd28"
      },
      "source": [
        "import numpy as np\n",
        "import pandas as pd\n",
        "import matplotlib.pyplot as plt\n",
        "import seaborn as sns"
      ],
      "execution_count": 1,
      "outputs": [
        {
          "output_type": "stream",
          "text": [
            "/usr/local/lib/python3.6/dist-packages/statsmodels/tools/_testing.py:19: FutureWarning: pandas.util.testing is deprecated. Use the functions in the public API at pandas.testing instead.\n",
            "  import pandas.util.testing as tm\n"
          ],
          "name": "stderr"
        }
      ]
    },
    {
      "cell_type": "code",
      "metadata": {
        "id": "7cK_9DETthBI",
        "colab_type": "code",
        "colab": {}
      },
      "source": [
        "df_train = pd.read_csv('/content/train.csv')\n",
        "df_test = pd.read_csv('/content/test.csv')"
      ],
      "execution_count": 0,
      "outputs": []
    },
    {
      "cell_type": "code",
      "metadata": {
        "id": "MZ55_fkAMJQR",
        "colab_type": "code",
        "outputId": "04e90f48-3e8a-41e0-a6d4-32facceb72e7",
        "colab": {
          "base_uri": "https://localhost:8080/",
          "height": 35
        }
      },
      "source": [
        "df_train.shape"
      ],
      "execution_count": 3,
      "outputs": [
        {
          "output_type": "execute_result",
          "data": {
            "text/plain": [
              "(3610, 167)"
            ]
          },
          "metadata": {
            "tags": []
          },
          "execution_count": 3
        }
      ]
    },
    {
      "cell_type": "code",
      "metadata": {
        "id": "yiQv6tBIOcdh",
        "colab_type": "code",
        "outputId": "6c97b747-3b5a-4a4e-d161-e3884430ddd9",
        "colab": {
          "base_uri": "https://localhost:8080/",
          "height": 35
        }
      },
      "source": [
        "df_test.shape"
      ],
      "execution_count": 4,
      "outputs": [
        {
          "output_type": "execute_result",
          "data": {
            "text/plain": [
              "(4576, 47)"
            ]
          },
          "metadata": {
            "tags": []
          },
          "execution_count": 4
        }
      ]
    },
    {
      "cell_type": "code",
      "metadata": {
        "id": "JSXDcIMcRS_Z",
        "colab_type": "code",
        "outputId": "f1e074be-576d-453c-b4e1-3d5212162c88",
        "colab": {
          "base_uri": "https://localhost:8080/",
          "height": 233
        }
      },
      "source": [
        "df_test.columns"
      ],
      "execution_count": 5,
      "outputs": [
        {
          "output_type": "execute_result",
          "data": {
            "text/plain": [
              "Index(['NU_INSCRICAO', 'CO_UF_RESIDENCIA', 'SG_UF_RESIDENCIA', 'NU_IDADE',\n",
              "       'TP_SEXO', 'TP_COR_RACA', 'TP_NACIONALIDADE', 'TP_ST_CONCLUSAO',\n",
              "       'TP_ANO_CONCLUIU', 'TP_ESCOLA', 'TP_ENSINO', 'IN_TREINEIRO',\n",
              "       'TP_DEPENDENCIA_ADM_ESC', 'IN_BAIXA_VISAO', 'IN_CEGUEIRA', 'IN_SURDEZ',\n",
              "       'IN_DISLEXIA', 'IN_DISCALCULIA', 'IN_SABATISTA', 'IN_GESTANTE',\n",
              "       'IN_IDOSO', 'TP_PRESENCA_CN', 'TP_PRESENCA_CH', 'TP_PRESENCA_LC',\n",
              "       'CO_PROVA_CN', 'CO_PROVA_CH', 'CO_PROVA_LC', 'CO_PROVA_MT',\n",
              "       'NU_NOTA_CN', 'NU_NOTA_CH', 'NU_NOTA_LC', 'TP_LINGUA',\n",
              "       'TP_STATUS_REDACAO', 'NU_NOTA_COMP1', 'NU_NOTA_COMP2', 'NU_NOTA_COMP3',\n",
              "       'NU_NOTA_COMP4', 'NU_NOTA_COMP5', 'NU_NOTA_REDACAO', 'Q001', 'Q002',\n",
              "       'Q006', 'Q024', 'Q025', 'Q026', 'Q027', 'Q047'],\n",
              "      dtype='object')"
            ]
          },
          "metadata": {
            "tags": []
          },
          "execution_count": 5
        }
      ]
    },
    {
      "cell_type": "code",
      "metadata": {
        "id": "anbKraaGc54N",
        "colab_type": "code",
        "colab": {}
      },
      "source": [
        "# seleção baseada em análise do dicionário de dados\n",
        "features = [\n",
        "            'NU_INSCRICAO',\n",
        "            # 'TP_COR_RACA',\n",
        "            # 'TP_ST_CONCLUSAO',\n",
        "            # 'TP_ANO_CONCLUIU',\n",
        "            # 'TP_ESCOLA',\n",
        "            # 'TP_ENSINO',\n",
        "            # 'IN_TREINEIRO',\n",
        "            # 'TP_DEPENDENCIA_ADM_ESC',\n",
        "            # 'IN_BAIXA_VISAO',\n",
        "            # 'IN_CEGUEIRA',\n",
        "            # 'IN_SURDEZ',\n",
        "            # 'IN_DISLEXIA',\n",
        "            # 'IN_DISCALCULIA',\n",
        "            # 'IN_SABATISTA',\n",
        "            # 'IN_GESTANTE',\n",
        "            # 'IN_IDOSO',\n",
        "            # 'TP_LINGUA',\n",
        "            # 'TP_SEXO',\n",
        "            # 'Q001',\n",
        "            # 'Q002',\n",
        "            # 'Q006',\n",
        "            # 'Q024',\n",
        "            # 'Q025',\n",
        "            # 'Q026',\n",
        "            # 'Q047',\n",
        "                \n",
        "            'NU_IDADE',\n",
        "            'NU_NOTA_CN',\n",
        "            'NU_NOTA_CH',\n",
        "            'NU_NOTA_LC',\n",
        "            # 'NU_NOTA_COMP1',\n",
        "            # 'NU_NOTA_COMP2',\n",
        "            # 'NU_NOTA_COMP3',\n",
        "            # 'NU_NOTA_COMP4',\n",
        "            # 'NU_NOTA_COMP5',\n",
        "            'NU_NOTA_REDACAO',\n",
        "\n",
        "            'TP_PRESENCA_LC',\n",
        "            'NU_NOTA_MT',\n",
        "]"
      ],
      "execution_count": 0,
      "outputs": []
    },
    {
      "cell_type": "code",
      "metadata": {
        "id": "FVFiZaI1PYXE",
        "colab_type": "code",
        "colab": {}
      },
      "source": [
        "# criação dos dataframes com as features\n",
        "X_train = df_train.loc[:,features]\n",
        "X_test = df_test.loc[:,features[:-1]] # remove NU_NOTA_MT from list\n",
        "\n",
        "# print(X_train.columns)\n",
        "# print(X_test.columns)"
      ],
      "execution_count": 0,
      "outputs": []
    },
    {
      "cell_type": "code",
      "metadata": {
        "id": "o1jmSWpdPX_B",
        "colab_type": "code",
        "colab": {}
      },
      "source": [
        "# exclui faltantes da prova de matemática que ocorre no mesmo dia que linguagens\n",
        "# indexNames = X_train[ X_train['TP_PRESENCA_LC'] == 0 ].index\n",
        "# X_train.drop(indexNames , inplace=True)\n",
        "# X_train.drop('TP_PRESENCA_LC', axis=1, inplace=True)\n",
        "\n",
        "# indexNames = X_test[ X_test['TP_PRESENCA_LC'] == 0 ].index\n",
        "# X_test.drop(indexNames , inplace=True)\n",
        "# X_test.drop('TP_PRESENCA_LC', axis=1, inplace=True)"
      ],
      "execution_count": 0,
      "outputs": []
    },
    {
      "cell_type": "code",
      "metadata": {
        "id": "_J-h8MOOprUx",
        "colab_type": "code",
        "outputId": "a12472e2-0461-47a1-846d-e731944fb18f",
        "colab": {
          "base_uri": "https://localhost:8080/",
          "height": 179
        }
      },
      "source": [
        "X_train.dtypes"
      ],
      "execution_count": 8,
      "outputs": [
        {
          "output_type": "execute_result",
          "data": {
            "text/plain": [
              "NU_INSCRICAO        object\n",
              "NU_IDADE             int64\n",
              "NU_NOTA_CN         float64\n",
              "NU_NOTA_CH         float64\n",
              "NU_NOTA_LC         float64\n",
              "NU_NOTA_REDACAO    float64\n",
              "TP_PRESENCA_LC     float64\n",
              "NU_NOTA_MT         float64\n",
              "dtype: object"
            ]
          },
          "metadata": {
            "tags": []
          },
          "execution_count": 8
        }
      ]
    },
    {
      "cell_type": "code",
      "metadata": {
        "id": "0Ah2hklpRLxu",
        "colab_type": "code",
        "colab": {
          "base_uri": "https://localhost:8080/",
          "height": 179
        },
        "outputId": "35c6e8e0-f1a5-43f8-8322-5aa1744e9612"
      },
      "source": [
        "print(X_train.isna().sum())"
      ],
      "execution_count": 9,
      "outputs": [
        {
          "output_type": "stream",
          "text": [
            "NU_INSCRICAO         0\n",
            "NU_IDADE             0\n",
            "NU_NOTA_CN         885\n",
            "NU_NOTA_CH         885\n",
            "NU_NOTA_LC         954\n",
            "NU_NOTA_REDACAO    954\n",
            "TP_PRESENCA_LC       1\n",
            "NU_NOTA_MT         954\n",
            "dtype: int64\n"
          ],
          "name": "stdout"
        }
      ]
    },
    {
      "cell_type": "code",
      "metadata": {
        "id": "E4XIzhMBSOM2",
        "colab_type": "code",
        "outputId": "07ad525b-75b1-4a49-e32f-f662e10c28f1",
        "colab": {
          "base_uri": "https://localhost:8080/",
          "height": 179
        }
      },
      "source": [
        "# cuidando dos missing values\n",
        "features_to_fill = ['NU_NOTA_CN',\n",
        "                    'NU_NOTA_CH',\n",
        "                    'NU_NOTA_LC',\n",
        "                    # 'NU_NOTA_COMP1',\n",
        "                    # 'NU_NOTA_COMP2',\n",
        "                    # 'NU_NOTA_COMP3',\n",
        "                    # 'NU_NOTA_COMP4',\n",
        "                    # 'NU_NOTA_COMP5',\n",
        "                    'NU_NOTA_REDACAO',\n",
        "\n",
        "                    # 'TP_DEPENDENCIA_ADM_ESC',\n",
        "                    # 'TP_ENSINO'\n",
        "                    ]\n",
        "\n",
        "X_train[features_to_fill] = X_train[features_to_fill].fillna(value=0)\n",
        "X_train['NU_NOTA_MT'] = X_train['NU_NOTA_MT'].fillna(value=0)\n",
        "\n",
        "X_test[features_to_fill] = X_test[features_to_fill].fillna(value=0)\n",
        "\n",
        "X_train.isna().sum()"
      ],
      "execution_count": 10,
      "outputs": [
        {
          "output_type": "execute_result",
          "data": {
            "text/plain": [
              "NU_INSCRICAO       0\n",
              "NU_IDADE           0\n",
              "NU_NOTA_CN         0\n",
              "NU_NOTA_CH         0\n",
              "NU_NOTA_LC         0\n",
              "NU_NOTA_REDACAO    0\n",
              "TP_PRESENCA_LC     1\n",
              "NU_NOTA_MT         0\n",
              "dtype: int64"
            ]
          },
          "metadata": {
            "tags": []
          },
          "execution_count": 10
        }
      ]
    },
    {
      "cell_type": "code",
      "metadata": {
        "id": "GESjtMUEast4",
        "colab_type": "code",
        "colab": {}
      },
      "source": [
        "# X_test.isna().sum()"
      ],
      "execution_count": 0,
      "outputs": []
    },
    {
      "cell_type": "code",
      "metadata": {
        "id": "bSfzMPkPhEoF",
        "colab_type": "code",
        "colab": {}
      },
      "source": [
        "# X_train.dtypes"
      ],
      "execution_count": 0,
      "outputs": []
    },
    {
      "cell_type": "code",
      "metadata": {
        "id": "fqf9UpHfrCVl",
        "colab_type": "code",
        "colab": {}
      },
      "source": [
        "# corrigindo os tipos\n",
        "# X_train['TP_ENSINO'] = X_train['TP_ENSINO'].astype('int64')\n",
        "# X_train['TP_DEPENDENCIA_ADM_ESC'] = X_train['TP_DEPENDENCIA_ADM_ESC'].astype('int64')\n",
        "# X_test['TP_ENSINO'] = X_test['TP_ENSINO'].astype('int64')\n",
        "# X_test['TP_DEPENDENCIA_ADM_ESC'] = X_test['TP_DEPENDENCIA_ADM_ESC'].astype('int64')\n",
        "\n",
        "# X_train.dtypes"
      ],
      "execution_count": 0,
      "outputs": []
    },
    {
      "cell_type": "code",
      "metadata": {
        "id": "0Qa8yfpQNCIO",
        "colab_type": "code",
        "colab": {}
      },
      "source": [
        "# Converter categóricas literais\n",
        "\n",
        "# from sklearn.preprocessing import LabelEncoder\n",
        "\n",
        "# features_to_encode = [\n",
        "#                       'TP_SEXO',\n",
        "#                       'Q001',\n",
        "#                       'Q002',\n",
        "#                       'Q006',\n",
        "#                       'Q024',\n",
        "#                       'Q025',\n",
        "#                       'Q026',\n",
        "#                       'Q047'\n",
        "#                       ]\n",
        "\n",
        "# label_encoder = LabelEncoder()\n",
        "\n",
        "# for column in features_to_encode:\n",
        "#     X_train[column] = label_encoder.fit_transform(X_train[column])\n",
        "#     X_test[column] = label_encoder.transform(X_test[column])\n",
        "    # print(X_train[column][:5])\n",
        "    # print(X_test[column][:5])"
      ],
      "execution_count": 0,
      "outputs": []
    },
    {
      "cell_type": "code",
      "metadata": {
        "id": "QkJmZGqYozqa",
        "colab_type": "code",
        "outputId": "ec4108cf-9af6-43e4-fc1a-600ad8131a4a",
        "colab": {
          "base_uri": "https://localhost:8080/",
          "height": 224
        }
      },
      "source": [
        "X_train.head()"
      ],
      "execution_count": 11,
      "outputs": [
        {
          "output_type": "execute_result",
          "data": {
            "text/html": [
              "<div>\n",
              "<style scoped>\n",
              "    .dataframe tbody tr th:only-of-type {\n",
              "        vertical-align: middle;\n",
              "    }\n",
              "\n",
              "    .dataframe tbody tr th {\n",
              "        vertical-align: top;\n",
              "    }\n",
              "\n",
              "    .dataframe thead th {\n",
              "        text-align: right;\n",
              "    }\n",
              "</style>\n",
              "<table border=\"1\" class=\"dataframe\">\n",
              "  <thead>\n",
              "    <tr style=\"text-align: right;\">\n",
              "      <th></th>\n",
              "      <th>NU_INSCRICAO</th>\n",
              "      <th>NU_IDADE</th>\n",
              "      <th>NU_NOTA_CN</th>\n",
              "      <th>NU_NOTA_CH</th>\n",
              "      <th>NU_NOTA_LC</th>\n",
              "      <th>NU_NOTA_REDACAO</th>\n",
              "      <th>TP_PRESENCA_LC</th>\n",
              "      <th>NU_NOTA_MT</th>\n",
              "    </tr>\n",
              "  </thead>\n",
              "  <tbody>\n",
              "    <tr>\n",
              "      <th>0</th>\n",
              "      <td>ed50e8aaa58e7a806c337585efee9ca41f1eb1ad</td>\n",
              "      <td>24</td>\n",
              "      <td>436.3</td>\n",
              "      <td>495.4</td>\n",
              "      <td>581.2</td>\n",
              "      <td>520.0</td>\n",
              "      <td>1.0</td>\n",
              "      <td>399.4</td>\n",
              "    </tr>\n",
              "    <tr>\n",
              "      <th>1</th>\n",
              "      <td>2c3acac4b33ec2b195d77e7c04a2d75727fad723</td>\n",
              "      <td>17</td>\n",
              "      <td>474.5</td>\n",
              "      <td>544.1</td>\n",
              "      <td>599.0</td>\n",
              "      <td>580.0</td>\n",
              "      <td>1.0</td>\n",
              "      <td>459.8</td>\n",
              "    </tr>\n",
              "    <tr>\n",
              "      <th>2</th>\n",
              "      <td>f4545f8ccb9ff5c8aad7d32951b3f251a26e6568</td>\n",
              "      <td>21</td>\n",
              "      <td>0.0</td>\n",
              "      <td>0.0</td>\n",
              "      <td>0.0</td>\n",
              "      <td>0.0</td>\n",
              "      <td>0.0</td>\n",
              "      <td>0.0</td>\n",
              "    </tr>\n",
              "    <tr>\n",
              "      <th>3</th>\n",
              "      <td>3d6ec248fef899c414e77f82d5c6d2bffbeaf7fe</td>\n",
              "      <td>25</td>\n",
              "      <td>0.0</td>\n",
              "      <td>0.0</td>\n",
              "      <td>0.0</td>\n",
              "      <td>0.0</td>\n",
              "      <td>0.0</td>\n",
              "      <td>0.0</td>\n",
              "    </tr>\n",
              "    <tr>\n",
              "      <th>4</th>\n",
              "      <td>bf896ac8d3ecadd6dba1dfbf50110afcbf5d3268</td>\n",
              "      <td>28</td>\n",
              "      <td>0.0</td>\n",
              "      <td>0.0</td>\n",
              "      <td>0.0</td>\n",
              "      <td>0.0</td>\n",
              "      <td>0.0</td>\n",
              "      <td>0.0</td>\n",
              "    </tr>\n",
              "  </tbody>\n",
              "</table>\n",
              "</div>"
            ],
            "text/plain": [
              "                               NU_INSCRICAO  ...  NU_NOTA_MT\n",
              "0  ed50e8aaa58e7a806c337585efee9ca41f1eb1ad  ...       399.4\n",
              "1  2c3acac4b33ec2b195d77e7c04a2d75727fad723  ...       459.8\n",
              "2  f4545f8ccb9ff5c8aad7d32951b3f251a26e6568  ...         0.0\n",
              "3  3d6ec248fef899c414e77f82d5c6d2bffbeaf7fe  ...         0.0\n",
              "4  bf896ac8d3ecadd6dba1dfbf50110afcbf5d3268  ...         0.0\n",
              "\n",
              "[5 rows x 8 columns]"
            ]
          },
          "metadata": {
            "tags": []
          },
          "execution_count": 11
        }
      ]
    },
    {
      "cell_type": "code",
      "metadata": {
        "id": "-XyRgTuekE8K",
        "colab_type": "code",
        "outputId": "10e13f5f-7359-4083-f4f1-91e153911059",
        "colab": {
          "base_uri": "https://localhost:8080/",
          "height": 224
        }
      },
      "source": [
        "# scaling\n",
        "from sklearn.preprocessing import StandardScaler\n",
        "\n",
        "scaler = StandardScaler()\n",
        "\n",
        "features_to_scale = [\n",
        "                    'NU_IDADE',\n",
        "                    \n",
        "                    'NU_NOTA_CN',\n",
        "                    'NU_NOTA_CH',\n",
        "                    'NU_NOTA_LC',\n",
        "                    # 'NU_NOTA_COMP1',\n",
        "                    # 'NU_NOTA_COMP2',\n",
        "                    # 'NU_NOTA_COMP3',\n",
        "                    # 'NU_NOTA_COMP4',\n",
        "                    # 'NU_NOTA_COMP5',\n",
        "                    'NU_NOTA_REDACAO',\n",
        "                     ]\n",
        "\n",
        "X_train[features_to_scale] = scaler.fit_transform(X_train[features_to_scale])\n",
        "X_test[features_to_scale] = scaler.transform(X_test[features_to_scale])\n",
        "\n",
        "X_train.head()"
      ],
      "execution_count": 12,
      "outputs": [
        {
          "output_type": "execute_result",
          "data": {
            "text/html": [
              "<div>\n",
              "<style scoped>\n",
              "    .dataframe tbody tr th:only-of-type {\n",
              "        vertical-align: middle;\n",
              "    }\n",
              "\n",
              "    .dataframe tbody tr th {\n",
              "        vertical-align: top;\n",
              "    }\n",
              "\n",
              "    .dataframe thead th {\n",
              "        text-align: right;\n",
              "    }\n",
              "</style>\n",
              "<table border=\"1\" class=\"dataframe\">\n",
              "  <thead>\n",
              "    <tr style=\"text-align: right;\">\n",
              "      <th></th>\n",
              "      <th>NU_INSCRICAO</th>\n",
              "      <th>NU_IDADE</th>\n",
              "      <th>NU_NOTA_CN</th>\n",
              "      <th>NU_NOTA_CH</th>\n",
              "      <th>NU_NOTA_LC</th>\n",
              "      <th>NU_NOTA_REDACAO</th>\n",
              "      <th>TP_PRESENCA_LC</th>\n",
              "      <th>NU_NOTA_MT</th>\n",
              "    </tr>\n",
              "  </thead>\n",
              "  <tbody>\n",
              "    <tr>\n",
              "      <th>0</th>\n",
              "      <td>ed50e8aaa58e7a806c337585efee9ca41f1eb1ad</td>\n",
              "      <td>0.352853</td>\n",
              "      <td>0.374101</td>\n",
              "      <td>0.400399</td>\n",
              "      <td>0.850128</td>\n",
              "      <td>0.481968</td>\n",
              "      <td>1.0</td>\n",
              "      <td>399.4</td>\n",
              "    </tr>\n",
              "    <tr>\n",
              "      <th>1</th>\n",
              "      <td>2c3acac4b33ec2b195d77e7c04a2d75727fad723</td>\n",
              "      <td>-0.646205</td>\n",
              "      <td>0.553689</td>\n",
              "      <td>0.605860</td>\n",
              "      <td>0.925677</td>\n",
              "      <td>0.704814</td>\n",
              "      <td>1.0</td>\n",
              "      <td>459.8</td>\n",
              "    </tr>\n",
              "    <tr>\n",
              "      <th>2</th>\n",
              "      <td>f4545f8ccb9ff5c8aad7d32951b3f251a26e6568</td>\n",
              "      <td>-0.075315</td>\n",
              "      <td>-1.677056</td>\n",
              "      <td>-1.689653</td>\n",
              "      <td>-1.616686</td>\n",
              "      <td>-1.449361</td>\n",
              "      <td>0.0</td>\n",
              "      <td>0.0</td>\n",
              "    </tr>\n",
              "    <tr>\n",
              "      <th>3</th>\n",
              "      <td>3d6ec248fef899c414e77f82d5c6d2bffbeaf7fe</td>\n",
              "      <td>0.495575</td>\n",
              "      <td>-1.677056</td>\n",
              "      <td>-1.689653</td>\n",
              "      <td>-1.616686</td>\n",
              "      <td>-1.449361</td>\n",
              "      <td>0.0</td>\n",
              "      <td>0.0</td>\n",
              "    </tr>\n",
              "    <tr>\n",
              "      <th>4</th>\n",
              "      <td>bf896ac8d3ecadd6dba1dfbf50110afcbf5d3268</td>\n",
              "      <td>0.923743</td>\n",
              "      <td>-1.677056</td>\n",
              "      <td>-1.689653</td>\n",
              "      <td>-1.616686</td>\n",
              "      <td>-1.449361</td>\n",
              "      <td>0.0</td>\n",
              "      <td>0.0</td>\n",
              "    </tr>\n",
              "  </tbody>\n",
              "</table>\n",
              "</div>"
            ],
            "text/plain": [
              "                               NU_INSCRICAO  ...  NU_NOTA_MT\n",
              "0  ed50e8aaa58e7a806c337585efee9ca41f1eb1ad  ...       399.4\n",
              "1  2c3acac4b33ec2b195d77e7c04a2d75727fad723  ...       459.8\n",
              "2  f4545f8ccb9ff5c8aad7d32951b3f251a26e6568  ...         0.0\n",
              "3  3d6ec248fef899c414e77f82d5c6d2bffbeaf7fe  ...         0.0\n",
              "4  bf896ac8d3ecadd6dba1dfbf50110afcbf5d3268  ...         0.0\n",
              "\n",
              "[5 rows x 8 columns]"
            ]
          },
          "metadata": {
            "tags": []
          },
          "execution_count": 12
        }
      ]
    },
    {
      "cell_type": "code",
      "metadata": {
        "id": "3CegWqDvwdwA",
        "colab_type": "code",
        "outputId": "fb2ef1e1-b7d3-479d-e268-7d770bb7d3d6",
        "colab": {
          "base_uri": "https://localhost:8080/",
          "height": 1000
        }
      },
      "source": [
        "# correlação entre as features\n",
        "corr_train = X_train.corr()\n",
        "\n",
        "plt.figure(figsize=(25,25))\n",
        "sns.heatmap(corr_train, annot=True, cmap=plt.cm.RdYlGn )\n",
        "\n",
        "plt.show()"
      ],
      "execution_count": 13,
      "outputs": [
        {
          "output_type": "display_data",
          "data": {
            "image/png": "[encoded data removed]",
            "text/plain": [
              "<Figure size 1800x1800 with 2 Axes>"
            ]
          },
          "metadata": {
            "tags": [],
            "needs_background": "light"
          }
        }
      ]
    },
    {
      "cell_type": "code",
      "metadata": {
        "id": "f_annILQt7O_",
        "colab_type": "code",
        "colab": {}
      },
      "source": [
        "# correlação entre as features\n",
        "corr_test = X_test.corr()\n",
        "\n",
        "# plt.figure(figsize=(25,25))\n",
        "# sns.heatmap(corr_test, annot=True, cmap=plt.cm.RdYlGn )\n",
        "\n",
        "# plt.show()"
      ],
      "execution_count": 0,
      "outputs": []
    },
    {
      "cell_type": "code",
      "metadata": {
        "id": "hDg1zVAoEhsB",
        "colab_type": "code",
        "outputId": "3c202961-799f-4885-cb22-fc375b6aabb8",
        "colab": {
          "base_uri": "https://localhost:8080/",
          "height": 224
        }
      },
      "source": [
        "# OneHotEncoding\n",
        "\n",
        "features_to_onehotencode = [\n",
        "                            # 'TP_COR_RACA',\n",
        "                            # 'TP_ST_CONCLUSAO',\n",
        "                            # 'TP_ANO_CONCLUIU',\n",
        "                            # 'TP_ESCOLA',\n",
        "                            # 'TP_ENSINO',\n",
        "                            # 'IN_TREINEIRO',\n",
        "                            # 'TP_DEPENDENCIA_ADM_ESC',\n",
        "                            # 'IN_BAIXA_VISAO',\n",
        "                            # 'IN_SURDEZ',\n",
        "                            # 'IN_SABATISTA',\n",
        "                            # 'IN_GESTANTE',\n",
        "                            # 'TP_LINGUA',\n",
        "                            # 'TP_SEXO',\n",
        "                            # 'Q001',\n",
        "                            # 'Q002',\n",
        "                            # 'Q006',\n",
        "                            # 'Q024',\n",
        "                            # 'Q025',\n",
        "                            # 'Q026',\n",
        "                            # 'Q047',\n",
        "                            'TP_PRESENCA_LC',\n",
        "]\n",
        "# categorias iniciadas em zero, pode usar drop_first=True\n",
        "for feature in features_to_onehotencode:\n",
        "    X_train = pd.get_dummies(X_train, prefix=feature[:6], columns=[feature], drop_first=True)\n",
        "    X_test = pd.get_dummies(X_test, prefix=feature[:6], columns=[feature], drop_first=True)\n",
        "\n",
        "X_train.head()"
      ],
      "execution_count": 15,
      "outputs": [
        {
          "output_type": "execute_result",
          "data": {
            "text/html": [
              "<div>\n",
              "<style scoped>\n",
              "    .dataframe tbody tr th:only-of-type {\n",
              "        vertical-align: middle;\n",
              "    }\n",
              "\n",
              "    .dataframe tbody tr th {\n",
              "        vertical-align: top;\n",
              "    }\n",
              "\n",
              "    .dataframe thead th {\n",
              "        text-align: right;\n",
              "    }\n",
              "</style>\n",
              "<table border=\"1\" class=\"dataframe\">\n",
              "  <thead>\n",
              "    <tr style=\"text-align: right;\">\n",
              "      <th></th>\n",
              "      <th>NU_INSCRICAO</th>\n",
              "      <th>NU_IDADE</th>\n",
              "      <th>NU_NOTA_CN</th>\n",
              "      <th>NU_NOTA_CH</th>\n",
              "      <th>NU_NOTA_LC</th>\n",
              "      <th>NU_NOTA_REDACAO</th>\n",
              "      <th>NU_NOTA_MT</th>\n",
              "      <th>TP_PRE_1.0</th>\n",
              "      <th>TP_PRE_2.0</th>\n",
              "    </tr>\n",
              "  </thead>\n",
              "  <tbody>\n",
              "    <tr>\n",
              "      <th>0</th>\n",
              "      <td>ed50e8aaa58e7a806c337585efee9ca41f1eb1ad</td>\n",
              "      <td>0.352853</td>\n",
              "      <td>0.374101</td>\n",
              "      <td>0.400399</td>\n",
              "      <td>0.850128</td>\n",
              "      <td>0.481968</td>\n",
              "      <td>399.4</td>\n",
              "      <td>1</td>\n",
              "      <td>0</td>\n",
              "    </tr>\n",
              "    <tr>\n",
              "      <th>1</th>\n",
              "      <td>2c3acac4b33ec2b195d77e7c04a2d75727fad723</td>\n",
              "      <td>-0.646205</td>\n",
              "      <td>0.553689</td>\n",
              "      <td>0.605860</td>\n",
              "      <td>0.925677</td>\n",
              "      <td>0.704814</td>\n",
              "      <td>459.8</td>\n",
              "      <td>1</td>\n",
              "      <td>0</td>\n",
              "    </tr>\n",
              "    <tr>\n",
              "      <th>2</th>\n",
              "      <td>f4545f8ccb9ff5c8aad7d32951b3f251a26e6568</td>\n",
              "      <td>-0.075315</td>\n",
              "      <td>-1.677056</td>\n",
              "      <td>-1.689653</td>\n",
              "      <td>-1.616686</td>\n",
              "      <td>-1.449361</td>\n",
              "      <td>0.0</td>\n",
              "      <td>0</td>\n",
              "      <td>0</td>\n",
              "    </tr>\n",
              "    <tr>\n",
              "      <th>3</th>\n",
              "      <td>3d6ec248fef899c414e77f82d5c6d2bffbeaf7fe</td>\n",
              "      <td>0.495575</td>\n",
              "      <td>-1.677056</td>\n",
              "      <td>-1.689653</td>\n",
              "      <td>-1.616686</td>\n",
              "      <td>-1.449361</td>\n",
              "      <td>0.0</td>\n",
              "      <td>0</td>\n",
              "      <td>0</td>\n",
              "    </tr>\n",
              "    <tr>\n",
              "      <th>4</th>\n",
              "      <td>bf896ac8d3ecadd6dba1dfbf50110afcbf5d3268</td>\n",
              "      <td>0.923743</td>\n",
              "      <td>-1.677056</td>\n",
              "      <td>-1.689653</td>\n",
              "      <td>-1.616686</td>\n",
              "      <td>-1.449361</td>\n",
              "      <td>0.0</td>\n",
              "      <td>0</td>\n",
              "      <td>0</td>\n",
              "    </tr>\n",
              "  </tbody>\n",
              "</table>\n",
              "</div>"
            ],
            "text/plain": [
              "                               NU_INSCRICAO  NU_IDADE  ...  TP_PRE_1.0  TP_PRE_2.0\n",
              "0  ed50e8aaa58e7a806c337585efee9ca41f1eb1ad  0.352853  ...           1           0\n",
              "1  2c3acac4b33ec2b195d77e7c04a2d75727fad723 -0.646205  ...           1           0\n",
              "2  f4545f8ccb9ff5c8aad7d32951b3f251a26e6568 -0.075315  ...           0           0\n",
              "3  3d6ec248fef899c414e77f82d5c6d2bffbeaf7fe  0.495575  ...           0           0\n",
              "4  bf896ac8d3ecadd6dba1dfbf50110afcbf5d3268  0.923743  ...           0           0\n",
              "\n",
              "[5 rows x 9 columns]"
            ]
          },
          "metadata": {
            "tags": []
          },
          "execution_count": 15
        }
      ]
    },
    {
      "cell_type": "code",
      "metadata": {
        "id": "3YeDjwYfwuWX",
        "colab_type": "code",
        "colab": {}
      },
      "source": [
        "# para modelos\n",
        "y_train = X_train.loc[:, 'NU_NOTA_MT']\n",
        "X_train = X_train.drop(['NU_INSCRICAO', 'NU_NOTA_MT'], axis=1)\n",
        "\n",
        "# para desafio\n",
        "numero_inscricoes = X_test.loc[:, 'NU_INSCRICAO']\n",
        "X_test = X_test.drop('NU_INSCRICAO', axis=1)"
      ],
      "execution_count": 0,
      "outputs": []
    },
    {
      "cell_type": "code",
      "metadata": {
        "id": "kmWp8HeWGSVZ",
        "colab_type": "code",
        "colab": {}
      },
      "source": [
        "from sklearn.model_selection import train_test_split \n",
        "from sklearn.linear_model import LinearRegression\n",
        "from sklearn.ensemble import RandomForestRegressor\n",
        "\n",
        "from sklearn.dummy import DummyRegressor\n",
        "from sklearn import metrics\n",
        "\n",
        "from sklearn.metrics import accuracy_score, classification_report, mean_squared_error, r2_score\n",
        "# from sklearn.model_selection import cross_val_score, GridSearchCV"
      ],
      "execution_count": 0,
      "outputs": []
    },
    {
      "cell_type": "code",
      "metadata": {
        "id": "Rxsx3lFOoiAL",
        "colab_type": "code",
        "colab": {}
      },
      "source": [
        "# para testes nos modelos\n",
        "XTrain, XTest, yTrain, yTest = train_test_split(X_train, y_train, test_size = 0.3 )"
      ],
      "execution_count": 0,
      "outputs": []
    },
    {
      "cell_type": "code",
      "metadata": {
        "id": "yJGuwdrsoWkj",
        "colab_type": "code",
        "colab": {}
      },
      "source": [
        "# dummy_regr = DummyRegressor()\n",
        "\n",
        "# dummy_regr.fit(XTrain, yTrain)\n",
        "\n",
        "# yPred = dummy_regr.predict(XTest)\n",
        "\n",
        "# print(f'Dummy Score: {dummy_regr.score(yTest, yPred)}')\n",
        "# # The coefficient of determination: 1 is perfect prediction\n",
        "# print(f'Coefficient of determination: {r2_score(yTest, yPred)}')\n",
        "# print(f'Mean squared error: {mean_squared_error(yTest, yPred)}')\n",
        "# # print(f'Accuracy: {accuracy_score(yTest, yPred)}')"
      ],
      "execution_count": 0,
      "outputs": []
    },
    {
      "cell_type": "code",
      "metadata": {
        "id": "Q0FF78xem7Jz",
        "colab_type": "code",
        "outputId": "b6dacaf9-9161-417e-ad8c-e92a4b34d280",
        "colab": {
          "base_uri": "https://localhost:8080/",
          "height": 107
        }
      },
      "source": [
        "# Regressão Linear\n",
        "linear_reg = LinearRegression()\n",
        "linear_reg.fit(XTrain, yTrain)\n",
        "yPred = linear_reg.predict(XTest)\n",
        "\n",
        "print(f'Coefficient of determination: {r2_score(yTest, yPred)}')\n",
        "print(f'Mean squared error: {mean_squared_error(yTest, yPred)}')\n",
        "\n",
        "print(f'Explained_variance: {metrics.explained_variance_score(yTest, yPred)}')\n",
        "print(f'Max error: {metrics.max_error(yTest, yPred)}')\n",
        "print(f'neg_mean_absolute_error: {metrics.mean_absolute_error(yTest, yPred)}')\n",
        "# print(f'neg_mean_squared_log_error: {metrics.mean_squared_log_error(yTest, yPred)}')\n",
        "# print(f'neg_median_absolute_error: {metrics.median_absolute_error(yTest, yPred)}')\n",
        "# print(f'neg_mean_poisson_deviance: {metrics.mean_poisson_deviance(yTest, yPred)}')\n",
        "# print(f'neg_mean_gamma_deviance: {metrics.mean_gamma_deviance(yTest, yPred)}')"
      ],
      "execution_count": 19,
      "outputs": [
        {
          "output_type": "stream",
          "text": [
            "Coefficient of determination: 0.9022419581416603\n",
            "Mean squared error: 5046.403114376976\n",
            "Explained_variance: 0.9022725991675341\n",
            "Max error: 287.52201638248107\n",
            "neg_mean_absolute_error: 51.33084091082209\n"
          ],
          "name": "stdout"
        }
      ]
    },
    {
      "cell_type": "code",
      "metadata": {
        "colab_type": "code",
        "id": "Rge17VhfHXAu",
        "colab": {}
      },
      "source": [
        "# real, para enviar\n",
        "linear_reg.fit(X_train, y_train)\n",
        "yPred = linear_reg.predict(X_test)\n",
        "\n",
        "df_yPred = pd.DataFrame(data=yPred, columns=['NU_NOTA_MT'])\n",
        "df_num_insc = pd.DataFrame(data=numero_inscricoes, columns=['NU_INSCRICAO'])\n",
        "\n",
        "df_save = pd.concat([df_num_insc, df_yPred], axis=1)\n",
        "df_save.to_csv('/content/answer.csv', index=False)\n"
      ],
      "execution_count": 0,
      "outputs": []
    },
    {
      "cell_type": "code",
      "metadata": {
        "id": "B695fWlg8OCM",
        "colab_type": "code",
        "outputId": "079a40c4-b98c-44e4-9ef2-03f980dd632e",
        "colab": {
          "base_uri": "https://localhost:8080/",
          "height": 107
        }
      },
      "source": [
        "from sklearn.svm import LinearSVR\n",
        "\n",
        "linear_svr = LinearSVR()\n",
        "linear_svr.fit(XTrain, yTrain)\n",
        "yPred = linear_svr.predict(XTest)\n",
        "\n",
        "print(f'Coefficient of determination: {r2_score(yTest, yPred)}')\n",
        "print(f'Mean squared error: {mean_squared_error(yTest, yPred)}')\n",
        "\n",
        "print(f'Explained_variance: {metrics.explained_variance_score(yTest, yPred)}')\n",
        "print(f'Max error: {metrics.max_error(yTest, yPred)}')\n",
        "print(f'neg_mean_absolute_error: {metrics.mean_absolute_error(yTest, yPred)}')"
      ],
      "execution_count": 21,
      "outputs": [
        {
          "output_type": "stream",
          "text": [
            "Coefficient of determination: 0.8897481954034003\n",
            "Mean squared error: 5691.348143902071\n",
            "Explained_variance: 0.8945129115875758\n",
            "Max error: 332.7614454652869\n",
            "neg_mean_absolute_error: 50.32928907934583\n"
          ],
          "name": "stdout"
        }
      ]
    },
    {
      "cell_type": "code",
      "metadata": {
        "id": "cdXJAEOD_O0h",
        "colab_type": "code",
        "colab": {}
      },
      "source": [
        "df_yPred = pd.DataFrame(data=yPred, columns=['NU_NOTA_MT'])\n",
        "df_num_insc = pd.DataFrame(data=numero_inscricoes, columns=['NU_INSCRICAO'])\n",
        "\n",
        "df_save = pd.concat([df_num_insc, df_yPred], axis=1)\n",
        "df_save.to_csv('/content/answer2.csv', index=False)"
      ],
      "execution_count": 0,
      "outputs": []
    },
    {
      "cell_type": "code",
      "metadata": {
        "id": "_v8dqe2ZwNbO",
        "colab_type": "code",
        "colab": {
          "base_uri": "https://localhost:8080/",
          "height": 71
        },
        "outputId": "9f8d8e00-3c24-42aa-e9cd-54204775c91c"
      },
      "source": [
        "# Random Forest regressor\n",
        "rf_regressor = RandomForestRegressor( \n",
        "           criterion='mae', \n",
        "           max_depth=8,\n",
        "           max_leaf_nodes=None,\n",
        "           min_impurity_split=None,\n",
        "           min_samples_leaf=1,\n",
        "           min_samples_split=2,\n",
        "           min_weight_fraction_leaf=0.0,\n",
        "           n_estimators= 500,\n",
        "           n_jobs=-1,\n",
        "           random_state=0,\n",
        "           verbose=0,\n",
        "           warm_start=False\n",
        ")\n",
        "\n",
        "rf_regressor = RandomForestRegressor(n_estimators = 10, random_state = 42)\n",
        "\n",
        "rf_regressor.fit(X_train, y_train)\n",
        "yPred = rf_regressor.predict(XTest)\n",
        "\n",
        "print('MAE: ', metrics.mean_absolute_error(yTest, yPred).round(8))\n",
        "print('MSE: ', metrics.mean_squared_error(yTest, yPred).round(8))\n",
        "print('RMSE: ', np.sqrt(metrics.mean_squared_error(yTest, yPred)).round(8))"
      ],
      "execution_count": 23,
      "outputs": [
        {
          "output_type": "stream",
          "text": [
            "MAE:  18.32713758\n",
            "MSE:  817.56711422\n",
            "RMSE:  28.59313054\n"
          ],
          "name": "stdout"
        }
      ]
    },
    {
      "cell_type": "code",
      "metadata": {
        "id": "YAyoEa7rQ5_a",
        "colab_type": "code",
        "colab": {}
      },
      "source": [
        "df_yPred = pd.DataFrame(data=yPred, columns=['NU_NOTA_MT'])\n",
        "df_num_insc = pd.DataFrame(data=numero_inscricoes, columns=['NU_INSCRICAO'])\n",
        "\n",
        "df_save = pd.concat([df_num_insc, df_yPred], axis=1)\n",
        "df_save.to_csv('/content/answer3.csv', index=False)"
      ],
      "execution_count": 0,
      "outputs": []
    },
    {
      "cell_type": "code",
      "metadata": {
        "id": "wOdUDZM-RJMa",
        "colab_type": "code",
        "colab": {}
      },
      "source": [
        ""
      ],
      "execution_count": 0,
      "outputs": []
    }
  ]
}