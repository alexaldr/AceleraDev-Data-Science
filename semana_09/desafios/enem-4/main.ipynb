{
 "cells": [
  {
   "cell_type": "code",
   "execution_count": 1,
   "metadata": {},
   "outputs": [],
   "source": [
    "import numpy as np\n",
    "import pandas as pd\n",
    "\n",
    "import matplotlib.pyplot as plt\n",
    "import seaborn as sns\n",
    "\n",
    "from sklearn.linear_model import LogisticRegression\n",
    "from imblearn.over_sampling import SMOTE\n",
    "from sklearn.datasets import make_blobs, make_classification\n",
    "from sklearn.decomposition import PCA\n",
    "from sklearn.model_selection import train_test_split"
   ]
  },
  {
   "cell_type": "code",
   "execution_count": 2,
   "metadata": {},
   "outputs": [
    {
     "data": {
      "text/html": [
       "<div>\n",
       "<style scoped>\n",
       "    .dataframe tbody tr th:only-of-type {\n",
       "        vertical-align: middle;\n",
       "    }\n",
       "\n",
       "    .dataframe tbody tr th {\n",
       "        vertical-align: top;\n",
       "    }\n",
       "\n",
       "    .dataframe thead th {\n",
       "        text-align: right;\n",
       "    }\n",
       "</style>\n",
       "<table border=\"1\" class=\"dataframe\">\n",
       "  <thead>\n",
       "    <tr style=\"text-align: right;\">\n",
       "      <th></th>\n",
       "      <th>Unnamed: 0</th>\n",
       "      <th>NU_INSCRICAO</th>\n",
       "      <th>NU_ANO</th>\n",
       "      <th>CO_MUNICIPIO_RESIDENCIA</th>\n",
       "      <th>NO_MUNICIPIO_RESIDENCIA</th>\n",
       "      <th>CO_UF_RESIDENCIA</th>\n",
       "      <th>SG_UF_RESIDENCIA</th>\n",
       "      <th>NU_IDADE</th>\n",
       "      <th>TP_SEXO</th>\n",
       "      <th>TP_ESTADO_CIVIL</th>\n",
       "      <th>...</th>\n",
       "      <th>Q041</th>\n",
       "      <th>Q042</th>\n",
       "      <th>Q043</th>\n",
       "      <th>Q044</th>\n",
       "      <th>Q045</th>\n",
       "      <th>Q046</th>\n",
       "      <th>Q047</th>\n",
       "      <th>Q048</th>\n",
       "      <th>Q049</th>\n",
       "      <th>Q050</th>\n",
       "    </tr>\n",
       "  </thead>\n",
       "  <tbody>\n",
       "    <tr>\n",
       "      <th>0</th>\n",
       "      <td>1</td>\n",
       "      <td>ed50e8aaa58e7a806c337585efee9ca41f1eb1ad</td>\n",
       "      <td>2016</td>\n",
       "      <td>4314902</td>\n",
       "      <td>Porto Alegre</td>\n",
       "      <td>43</td>\n",
       "      <td>RS</td>\n",
       "      <td>24</td>\n",
       "      <td>M</td>\n",
       "      <td>0.0</td>\n",
       "      <td>...</td>\n",
       "      <td>5.0</td>\n",
       "      <td>A</td>\n",
       "      <td>A</td>\n",
       "      <td>A</td>\n",
       "      <td>A</td>\n",
       "      <td>A</td>\n",
       "      <td>A</td>\n",
       "      <td>A</td>\n",
       "      <td>B</td>\n",
       "      <td>D</td>\n",
       "    </tr>\n",
       "    <tr>\n",
       "      <th>1</th>\n",
       "      <td>2</td>\n",
       "      <td>2c3acac4b33ec2b195d77e7c04a2d75727fad723</td>\n",
       "      <td>2016</td>\n",
       "      <td>2304707</td>\n",
       "      <td>Granja</td>\n",
       "      <td>23</td>\n",
       "      <td>CE</td>\n",
       "      <td>17</td>\n",
       "      <td>F</td>\n",
       "      <td>0.0</td>\n",
       "      <td>...</td>\n",
       "      <td>NaN</td>\n",
       "      <td>A</td>\n",
       "      <td>A</td>\n",
       "      <td>C</td>\n",
       "      <td>A</td>\n",
       "      <td>B</td>\n",
       "      <td>A</td>\n",
       "      <td>A</td>\n",
       "      <td>C</td>\n",
       "      <td>A</td>\n",
       "    </tr>\n",
       "    <tr>\n",
       "      <th>2</th>\n",
       "      <td>3</td>\n",
       "      <td>f4545f8ccb9ff5c8aad7d32951b3f251a26e6568</td>\n",
       "      <td>2016</td>\n",
       "      <td>2304400</td>\n",
       "      <td>Fortaleza</td>\n",
       "      <td>23</td>\n",
       "      <td>CE</td>\n",
       "      <td>21</td>\n",
       "      <td>F</td>\n",
       "      <td>0.0</td>\n",
       "      <td>...</td>\n",
       "      <td>NaN</td>\n",
       "      <td>A</td>\n",
       "      <td>A</td>\n",
       "      <td>A</td>\n",
       "      <td>A</td>\n",
       "      <td>C</td>\n",
       "      <td>A</td>\n",
       "      <td>A</td>\n",
       "      <td>B</td>\n",
       "      <td>A</td>\n",
       "    </tr>\n",
       "    <tr>\n",
       "      <th>3</th>\n",
       "      <td>4</td>\n",
       "      <td>3d6ec248fef899c414e77f82d5c6d2bffbeaf7fe</td>\n",
       "      <td>2016</td>\n",
       "      <td>3304557</td>\n",
       "      <td>Rio de Janeiro</td>\n",
       "      <td>33</td>\n",
       "      <td>RJ</td>\n",
       "      <td>25</td>\n",
       "      <td>F</td>\n",
       "      <td>0.0</td>\n",
       "      <td>...</td>\n",
       "      <td>5.0</td>\n",
       "      <td>C</td>\n",
       "      <td>A</td>\n",
       "      <td>A</td>\n",
       "      <td>A</td>\n",
       "      <td>A</td>\n",
       "      <td>D</td>\n",
       "      <td>A</td>\n",
       "      <td>A</td>\n",
       "      <td>A</td>\n",
       "    </tr>\n",
       "    <tr>\n",
       "      <th>4</th>\n",
       "      <td>5</td>\n",
       "      <td>bf896ac8d3ecadd6dba1dfbf50110afcbf5d3268</td>\n",
       "      <td>2016</td>\n",
       "      <td>1302603</td>\n",
       "      <td>Manaus</td>\n",
       "      <td>13</td>\n",
       "      <td>AM</td>\n",
       "      <td>28</td>\n",
       "      <td>M</td>\n",
       "      <td>0.0</td>\n",
       "      <td>...</td>\n",
       "      <td>NaN</td>\n",
       "      <td>A</td>\n",
       "      <td>A</td>\n",
       "      <td>A</td>\n",
       "      <td>A</td>\n",
       "      <td>A</td>\n",
       "      <td>A</td>\n",
       "      <td>A</td>\n",
       "      <td>A</td>\n",
       "      <td>A</td>\n",
       "    </tr>\n",
       "  </tbody>\n",
       "</table>\n",
       "<p>5 rows × 167 columns</p>\n",
       "</div>"
      ],
      "text/plain": [
       "   Unnamed: 0                              NU_INSCRICAO  NU_ANO  \\\n",
       "0           1  ed50e8aaa58e7a806c337585efee9ca41f1eb1ad    2016   \n",
       "1           2  2c3acac4b33ec2b195d77e7c04a2d75727fad723    2016   \n",
       "2           3  f4545f8ccb9ff5c8aad7d32951b3f251a26e6568    2016   \n",
       "3           4  3d6ec248fef899c414e77f82d5c6d2bffbeaf7fe    2016   \n",
       "4           5  bf896ac8d3ecadd6dba1dfbf50110afcbf5d3268    2016   \n",
       "\n",
       "   CO_MUNICIPIO_RESIDENCIA NO_MUNICIPIO_RESIDENCIA  CO_UF_RESIDENCIA  \\\n",
       "0                  4314902            Porto Alegre                43   \n",
       "1                  2304707                  Granja                23   \n",
       "2                  2304400               Fortaleza                23   \n",
       "3                  3304557          Rio de Janeiro                33   \n",
       "4                  1302603                  Manaus                13   \n",
       "\n",
       "  SG_UF_RESIDENCIA  NU_IDADE TP_SEXO  TP_ESTADO_CIVIL  ...  Q041  Q042  Q043  \\\n",
       "0               RS        24       M              0.0  ...   5.0     A     A   \n",
       "1               CE        17       F              0.0  ...   NaN     A     A   \n",
       "2               CE        21       F              0.0  ...   NaN     A     A   \n",
       "3               RJ        25       F              0.0  ...   5.0     C     A   \n",
       "4               AM        28       M              0.0  ...   NaN     A     A   \n",
       "\n",
       "  Q044  Q045 Q046  Q047  Q048  Q049  Q050  \n",
       "0    A     A    A     A     A     B     D  \n",
       "1    C     A    B     A     A     C     A  \n",
       "2    A     A    C     A     A     B     A  \n",
       "3    A     A    A     D     A     A     A  \n",
       "4    A     A    A     A     A     A     A  \n",
       "\n",
       "[5 rows x 167 columns]"
      ]
     },
     "execution_count": 2,
     "metadata": {},
     "output_type": "execute_result"
    }
   ],
   "source": [
    "train = pd.read_csv('train.csv')\n",
    "train.head()"
   ]
  },
  {
   "cell_type": "code",
   "execution_count": 5,
   "metadata": {},
   "outputs": [
    {
     "data": {
      "image/png": "[encoded data removed]",
      "text/plain": [
       "<Figure size 432x288 with 1 Axes>"
      ]
     },
     "metadata": {
      "needs_background": "light"
     },
     "output_type": "display_data"
    }
   ],
   "source": [
    "sns.countplot(train['IN_TREINEIRO']);"
   ]
  },
  {
   "cell_type": "markdown",
   "metadata": {},
   "source": [
    "distribuição do target mal balanceada"
   ]
  },
  {
   "cell_type": "code",
   "execution_count": 6,
   "metadata": {},
   "outputs": [
    {
     "data": {
      "text/plain": [
       "Index(['NU_INSCRICAO', 'CO_UF_RESIDENCIA', 'SG_UF_RESIDENCIA', 'NU_IDADE',\n",
       "       'TP_SEXO', 'TP_COR_RACA', 'TP_NACIONALIDADE', 'TP_ST_CONCLUSAO',\n",
       "       'TP_ANO_CONCLUIU', 'TP_ESCOLA', 'TP_ENSINO', 'TP_DEPENDENCIA_ADM_ESC',\n",
       "       'IN_BAIXA_VISAO', 'IN_CEGUEIRA', 'IN_SURDEZ', 'IN_DISLEXIA',\n",
       "       'IN_DISCALCULIA', 'IN_SABATISTA', 'IN_GESTANTE', 'IN_IDOSO',\n",
       "       'TP_PRESENCA_CN', 'TP_PRESENCA_CH', 'TP_PRESENCA_LC', 'TP_PRESENCA_MT',\n",
       "       'NU_NOTA_CN', 'NU_NOTA_CH', 'NU_NOTA_LC', 'TP_LINGUA',\n",
       "       'TP_STATUS_REDACAO', 'NU_NOTA_COMP1', 'NU_NOTA_COMP2', 'NU_NOTA_COMP3',\n",
       "       'NU_NOTA_COMP4', 'NU_NOTA_COMP5', 'NU_NOTA_REDACAO', 'Q001', 'Q002',\n",
       "       'Q006', 'Q024', 'Q025', 'Q026', 'Q027', 'Q047'],\n",
       "      dtype='object')"
      ]
     },
     "execution_count": 6,
     "metadata": {},
     "output_type": "execute_result"
    }
   ],
   "source": [
    "test = pd.read_csv('test.csv')\n",
    "test.columns"
   ]
  },
  {
   "cell_type": "code",
   "execution_count": 7,
   "metadata": {},
   "outputs": [],
   "source": [
    "# excluindo as features de treino que não estão no teste\n",
    "train = pd.concat([train['IN_TREINEIRO'], train[test.columns]],axis=1)"
   ]
  },
  {
   "cell_type": "code",
   "execution_count": 8,
   "metadata": {},
   "outputs": [
    {
     "data": {
      "text/plain": [
       "(13730, 44)"
      ]
     },
     "execution_count": 8,
     "metadata": {},
     "output_type": "execute_result"
    }
   ],
   "source": [
    "train.shape"
   ]
  },
  {
   "cell_type": "code",
   "execution_count": 9,
   "metadata": {},
   "outputs": [
    {
     "data": {
      "text/plain": [
       "IN_TREINEIRO              1.000000\n",
       "TP_ST_CONCLUSAO           0.533983\n",
       "TP_PRESENCA_CN            0.094692\n",
       "TP_PRESENCA_CH            0.094692\n",
       "TP_PRESENCA_MT            0.092454\n",
       "TP_PRESENCA_LC            0.092454\n",
       "TP_COR_RACA               0.009676\n",
       "TP_STATUS_REDACAO         0.006688\n",
       "IN_SABATISTA              0.003824\n",
       "IN_DISLEXIA              -0.003297\n",
       "IN_DISCALCULIA           -0.003297\n",
       "IN_IDOSO                 -0.004663\n",
       "IN_SURDEZ                -0.007374\n",
       "NU_NOTA_COMP1            -0.008709\n",
       "IN_GESTANTE              -0.011893\n",
       "IN_BAIXA_VISAO           -0.013602\n",
       "TP_NACIONALIDADE         -0.015179\n",
       "NU_NOTA_COMP2            -0.023308\n",
       "NU_NOTA_COMP5            -0.025811\n",
       "NU_NOTA_COMP4            -0.025958\n",
       "NU_NOTA_REDACAO          -0.026328\n",
       "NU_NOTA_LC               -0.028261\n",
       "NU_NOTA_COMP3            -0.030147\n",
       "CO_UF_RESIDENCIA         -0.034944\n",
       "TP_LINGUA                -0.036395\n",
       "NU_NOTA_CN               -0.037874\n",
       "NU_NOTA_CH               -0.053460\n",
       "TP_ESCOLA                -0.244562\n",
       "TP_ANO_CONCLUIU          -0.257710\n",
       "NU_IDADE                 -0.295091\n",
       "TP_ENSINO                      NaN\n",
       "TP_DEPENDENCIA_ADM_ESC         NaN\n",
       "IN_CEGUEIRA                    NaN\n",
       "Name: IN_TREINEIRO, dtype: float64"
      ]
     },
     "execution_count": 9,
     "metadata": {},
     "output_type": "execute_result"
    }
   ],
   "source": [
    "train.corr()['IN_TREINEIRO'].sort_values(ascending=False)"
   ]
  },
  {
   "cell_type": "code",
   "execution_count": 10,
   "metadata": {},
   "outputs": [],
   "source": [
    "# dropando baixa correlação\n",
    "train.drop(['Q027','TP_STATUS_REDACAO','TP_DEPENDENCIA_ADM_ESC','TP_ENSINO'],axis=1,inplace=True)"
   ]
  },
  {
   "cell_type": "markdown",
   "metadata": {},
   "source": [
    "## Dados faltantes"
   ]
  },
  {
   "cell_type": "code",
   "execution_count": 11,
   "metadata": {},
   "outputs": [
    {
     "data": {
      "text/plain": [
       "IN_TREINEIRO           0\n",
       "NU_INSCRICAO           0\n",
       "CO_UF_RESIDENCIA       0\n",
       "SG_UF_RESIDENCIA       0\n",
       "NU_IDADE               0\n",
       "TP_SEXO                0\n",
       "TP_COR_RACA            0\n",
       "TP_NACIONALIDADE       0\n",
       "TP_ST_CONCLUSAO        0\n",
       "TP_ANO_CONCLUIU        0\n",
       "TP_ESCOLA              0\n",
       "IN_BAIXA_VISAO         0\n",
       "IN_CEGUEIRA            0\n",
       "IN_SURDEZ              0\n",
       "IN_DISLEXIA            0\n",
       "IN_DISCALCULIA         0\n",
       "IN_SABATISTA           0\n",
       "IN_GESTANTE            0\n",
       "IN_IDOSO               0\n",
       "TP_PRESENCA_CN         0\n",
       "TP_PRESENCA_CH         0\n",
       "TP_PRESENCA_LC         0\n",
       "TP_PRESENCA_MT         0\n",
       "NU_NOTA_CN          3389\n",
       "NU_NOTA_CH          3389\n",
       "NU_NOTA_LC          3597\n",
       "TP_LINGUA              0\n",
       "NU_NOTA_COMP1       3597\n",
       "NU_NOTA_COMP2       3597\n",
       "NU_NOTA_COMP3       3597\n",
       "NU_NOTA_COMP4       3597\n",
       "NU_NOTA_COMP5       3597\n",
       "NU_NOTA_REDACAO     3597\n",
       "Q001                   0\n",
       "Q002                   0\n",
       "Q006                   0\n",
       "Q024                   0\n",
       "Q025                   0\n",
       "Q026                   0\n",
       "Q047                   0\n",
       "dtype: int64"
      ]
     },
     "execution_count": 11,
     "metadata": {},
     "output_type": "execute_result"
    }
   ],
   "source": [
    "train.isna().sum()"
   ]
  },
  {
   "cell_type": "code",
   "execution_count": 13,
   "metadata": {},
   "outputs": [],
   "source": [
    "# setando nota zero para os alunos que não estavam presentes nas respectivas provas\n",
    "train['NU_NOTA_CN'].loc[train.TP_PRESENCA_CN == 0] = 0\n",
    "train['NU_NOTA_CH'].loc[train.TP_PRESENCA_CH == 0] = 0\n",
    "train['NU_NOTA_LC'].loc[train.TP_PRESENCA_LC == 0] = 0\n",
    "# train['NU_NOTA_REDACAO'].loc[train.TP_STATUS_REDACAO ==4] = 0\n",
    "# train['NU_NOTA_COMP1'].loc[train.TP_STATUS_REDACAO==4] = 0\n",
    "# train['NU_NOTA_COMP2'].loc[train.TP_STATUS_REDACAO==4] = 0\n",
    "# train['NU_NOTA_COMP3'].loc[train.TP_STATUS_REDACAO==4] = 0\n",
    "# train['NU_NOTA_COMP4'].loc[train.TP_STATUS_REDACAO==4] = 0\n",
    "# train['NU_NOTA_COMP5'].loc[train.TP_STATUS_REDACAO==4] = 0"
   ]
  },
  {
   "cell_type": "code",
   "execution_count": 14,
   "metadata": {},
   "outputs": [
    {
     "data": {
      "text/plain": [
       "IN_TREINEIRO           0\n",
       "NU_INSCRICAO           0\n",
       "CO_UF_RESIDENCIA       0\n",
       "SG_UF_RESIDENCIA       0\n",
       "NU_IDADE               0\n",
       "TP_SEXO                0\n",
       "TP_COR_RACA            0\n",
       "TP_NACIONALIDADE       0\n",
       "TP_ST_CONCLUSAO        0\n",
       "TP_ANO_CONCLUIU        0\n",
       "TP_ESCOLA              0\n",
       "IN_BAIXA_VISAO         0\n",
       "IN_CEGUEIRA            0\n",
       "IN_SURDEZ              0\n",
       "IN_DISLEXIA            0\n",
       "IN_DISCALCULIA         0\n",
       "IN_SABATISTA           0\n",
       "IN_GESTANTE            0\n",
       "IN_IDOSO               0\n",
       "TP_PRESENCA_CN         0\n",
       "TP_PRESENCA_CH         0\n",
       "TP_PRESENCA_LC         0\n",
       "TP_PRESENCA_MT         0\n",
       "NU_NOTA_CN             9\n",
       "NU_NOTA_CH             9\n",
       "NU_NOTA_LC             5\n",
       "TP_LINGUA              0\n",
       "NU_NOTA_COMP1       3597\n",
       "NU_NOTA_COMP2       3597\n",
       "NU_NOTA_COMP3       3597\n",
       "NU_NOTA_COMP4       3597\n",
       "NU_NOTA_COMP5       3597\n",
       "NU_NOTA_REDACAO     3597\n",
       "Q001                   0\n",
       "Q002                   0\n",
       "Q006                   0\n",
       "Q024                   0\n",
       "Q025                   0\n",
       "Q026                   0\n",
       "Q047                   0\n",
       "dtype: int64"
      ]
     },
     "execution_count": 14,
     "metadata": {},
     "output_type": "execute_result"
    }
   ],
   "source": [
    "train.isna().sum()"
   ]
  },
  {
   "cell_type": "code",
   "execution_count": 15,
   "metadata": {},
   "outputs": [],
   "source": [
    "train = train.fillna(0)"
   ]
  },
  {
   "cell_type": "code",
   "execution_count": 17,
   "metadata": {},
   "outputs": [
    {
     "data": {
      "text/plain": [
       "IN_TREINEIRO        1.000000\n",
       "TP_ST_CONCLUSAO     0.533983\n",
       "TP_PRESENCA_CN      0.094692\n",
       "TP_PRESENCA_CH      0.094692\n",
       "TP_PRESENCA_LC      0.092454\n",
       "TP_PRESENCA_MT      0.092454\n",
       "NU_NOTA_LC          0.083731\n",
       "NU_NOTA_CN          0.080915\n",
       "NU_NOTA_COMP1       0.080326\n",
       "NU_NOTA_CH          0.078276\n",
       "NU_NOTA_COMP2       0.069545\n",
       "NU_NOTA_REDACAO     0.069119\n",
       "NU_NOTA_COMP4       0.068862\n",
       "NU_NOTA_COMP3       0.064340\n",
       "NU_NOTA_COMP5       0.045809\n",
       "TP_COR_RACA         0.009676\n",
       "IN_SABATISTA        0.003824\n",
       "IN_DISLEXIA        -0.003297\n",
       "IN_DISCALCULIA     -0.003297\n",
       "IN_IDOSO           -0.004663\n",
       "IN_SURDEZ          -0.007374\n",
       "IN_GESTANTE        -0.011893\n",
       "IN_BAIXA_VISAO     -0.013602\n",
       "TP_NACIONALIDADE   -0.015179\n",
       "CO_UF_RESIDENCIA   -0.034944\n",
       "TP_LINGUA          -0.036395\n",
       "TP_ESCOLA          -0.244562\n",
       "TP_ANO_CONCLUIU    -0.257710\n",
       "NU_IDADE           -0.295091\n",
       "IN_CEGUEIRA              NaN\n",
       "Name: IN_TREINEIRO, dtype: float64"
      ]
     },
     "execution_count": 17,
     "metadata": {},
     "output_type": "execute_result"
    }
   ],
   "source": [
    "train.corr()['IN_TREINEIRO'].sort_values(ascending=False)"
   ]
  },
  {
   "cell_type": "code",
   "execution_count": 18,
   "metadata": {},
   "outputs": [],
   "source": [
    "# dropando features com baixa correlação\n",
    "train.drop(['SG_UF_RESIDENCIA','IN_CEGUEIRA','TP_LINGUA','CO_UF_RESIDENCIA','TP_NACIONALIDADE','IN_BAIXA_VISAO','IN_GESTANTE','IN_SURDEZ','IN_IDOSO','IN_DISCALCULIA','IN_DISLEXIA','IN_SABATISTA','TP_COR_RACA'],axis=1,inplace=True)"
   ]
  },
  {
   "cell_type": "markdown",
   "metadata": {},
   "source": [
    "## dummies"
   ]
  },
  {
   "cell_type": "code",
   "execution_count": 19,
   "metadata": {},
   "outputs": [
    {
     "data": {
      "text/html": [
       "<div>\n",
       "<style scoped>\n",
       "    .dataframe tbody tr th:only-of-type {\n",
       "        vertical-align: middle;\n",
       "    }\n",
       "\n",
       "    .dataframe tbody tr th {\n",
       "        vertical-align: top;\n",
       "    }\n",
       "\n",
       "    .dataframe thead th {\n",
       "        text-align: right;\n",
       "    }\n",
       "</style>\n",
       "<table border=\"1\" class=\"dataframe\">\n",
       "  <thead>\n",
       "    <tr style=\"text-align: right;\">\n",
       "      <th></th>\n",
       "      <th>nomes</th>\n",
       "      <th>tipos</th>\n",
       "    </tr>\n",
       "  </thead>\n",
       "  <tbody>\n",
       "    <tr>\n",
       "      <th>IN_TREINEIRO</th>\n",
       "      <td>IN_TREINEIRO</td>\n",
       "      <td>int64</td>\n",
       "    </tr>\n",
       "    <tr>\n",
       "      <th>NU_INSCRICAO</th>\n",
       "      <td>NU_INSCRICAO</td>\n",
       "      <td>object</td>\n",
       "    </tr>\n",
       "    <tr>\n",
       "      <th>NU_IDADE</th>\n",
       "      <td>NU_IDADE</td>\n",
       "      <td>int64</td>\n",
       "    </tr>\n",
       "    <tr>\n",
       "      <th>TP_SEXO</th>\n",
       "      <td>TP_SEXO</td>\n",
       "      <td>object</td>\n",
       "    </tr>\n",
       "    <tr>\n",
       "      <th>TP_ST_CONCLUSAO</th>\n",
       "      <td>TP_ST_CONCLUSAO</td>\n",
       "      <td>int64</td>\n",
       "    </tr>\n",
       "    <tr>\n",
       "      <th>TP_ANO_CONCLUIU</th>\n",
       "      <td>TP_ANO_CONCLUIU</td>\n",
       "      <td>int64</td>\n",
       "    </tr>\n",
       "    <tr>\n",
       "      <th>TP_ESCOLA</th>\n",
       "      <td>TP_ESCOLA</td>\n",
       "      <td>int64</td>\n",
       "    </tr>\n",
       "    <tr>\n",
       "      <th>TP_PRESENCA_CN</th>\n",
       "      <td>TP_PRESENCA_CN</td>\n",
       "      <td>int64</td>\n",
       "    </tr>\n",
       "    <tr>\n",
       "      <th>TP_PRESENCA_CH</th>\n",
       "      <td>TP_PRESENCA_CH</td>\n",
       "      <td>int64</td>\n",
       "    </tr>\n",
       "    <tr>\n",
       "      <th>TP_PRESENCA_LC</th>\n",
       "      <td>TP_PRESENCA_LC</td>\n",
       "      <td>int64</td>\n",
       "    </tr>\n",
       "    <tr>\n",
       "      <th>TP_PRESENCA_MT</th>\n",
       "      <td>TP_PRESENCA_MT</td>\n",
       "      <td>int64</td>\n",
       "    </tr>\n",
       "    <tr>\n",
       "      <th>NU_NOTA_CN</th>\n",
       "      <td>NU_NOTA_CN</td>\n",
       "      <td>float64</td>\n",
       "    </tr>\n",
       "    <tr>\n",
       "      <th>NU_NOTA_CH</th>\n",
       "      <td>NU_NOTA_CH</td>\n",
       "      <td>float64</td>\n",
       "    </tr>\n",
       "    <tr>\n",
       "      <th>NU_NOTA_LC</th>\n",
       "      <td>NU_NOTA_LC</td>\n",
       "      <td>float64</td>\n",
       "    </tr>\n",
       "    <tr>\n",
       "      <th>NU_NOTA_COMP1</th>\n",
       "      <td>NU_NOTA_COMP1</td>\n",
       "      <td>float64</td>\n",
       "    </tr>\n",
       "    <tr>\n",
       "      <th>NU_NOTA_COMP2</th>\n",
       "      <td>NU_NOTA_COMP2</td>\n",
       "      <td>float64</td>\n",
       "    </tr>\n",
       "    <tr>\n",
       "      <th>NU_NOTA_COMP3</th>\n",
       "      <td>NU_NOTA_COMP3</td>\n",
       "      <td>float64</td>\n",
       "    </tr>\n",
       "    <tr>\n",
       "      <th>NU_NOTA_COMP4</th>\n",
       "      <td>NU_NOTA_COMP4</td>\n",
       "      <td>float64</td>\n",
       "    </tr>\n",
       "    <tr>\n",
       "      <th>NU_NOTA_COMP5</th>\n",
       "      <td>NU_NOTA_COMP5</td>\n",
       "      <td>float64</td>\n",
       "    </tr>\n",
       "    <tr>\n",
       "      <th>NU_NOTA_REDACAO</th>\n",
       "      <td>NU_NOTA_REDACAO</td>\n",
       "      <td>float64</td>\n",
       "    </tr>\n",
       "    <tr>\n",
       "      <th>Q001</th>\n",
       "      <td>Q001</td>\n",
       "      <td>object</td>\n",
       "    </tr>\n",
       "    <tr>\n",
       "      <th>Q002</th>\n",
       "      <td>Q002</td>\n",
       "      <td>object</td>\n",
       "    </tr>\n",
       "    <tr>\n",
       "      <th>Q006</th>\n",
       "      <td>Q006</td>\n",
       "      <td>object</td>\n",
       "    </tr>\n",
       "    <tr>\n",
       "      <th>Q024</th>\n",
       "      <td>Q024</td>\n",
       "      <td>object</td>\n",
       "    </tr>\n",
       "    <tr>\n",
       "      <th>Q025</th>\n",
       "      <td>Q025</td>\n",
       "      <td>object</td>\n",
       "    </tr>\n",
       "    <tr>\n",
       "      <th>Q026</th>\n",
       "      <td>Q026</td>\n",
       "      <td>object</td>\n",
       "    </tr>\n",
       "    <tr>\n",
       "      <th>Q047</th>\n",
       "      <td>Q047</td>\n",
       "      <td>object</td>\n",
       "    </tr>\n",
       "  </tbody>\n",
       "</table>\n",
       "</div>"
      ],
      "text/plain": [
       "                           nomes    tipos\n",
       "IN_TREINEIRO        IN_TREINEIRO    int64\n",
       "NU_INSCRICAO        NU_INSCRICAO   object\n",
       "NU_IDADE                NU_IDADE    int64\n",
       "TP_SEXO                  TP_SEXO   object\n",
       "TP_ST_CONCLUSAO  TP_ST_CONCLUSAO    int64\n",
       "TP_ANO_CONCLUIU  TP_ANO_CONCLUIU    int64\n",
       "TP_ESCOLA              TP_ESCOLA    int64\n",
       "TP_PRESENCA_CN    TP_PRESENCA_CN    int64\n",
       "TP_PRESENCA_CH    TP_PRESENCA_CH    int64\n",
       "TP_PRESENCA_LC    TP_PRESENCA_LC    int64\n",
       "TP_PRESENCA_MT    TP_PRESENCA_MT    int64\n",
       "NU_NOTA_CN            NU_NOTA_CN  float64\n",
       "NU_NOTA_CH            NU_NOTA_CH  float64\n",
       "NU_NOTA_LC            NU_NOTA_LC  float64\n",
       "NU_NOTA_COMP1      NU_NOTA_COMP1  float64\n",
       "NU_NOTA_COMP2      NU_NOTA_COMP2  float64\n",
       "NU_NOTA_COMP3      NU_NOTA_COMP3  float64\n",
       "NU_NOTA_COMP4      NU_NOTA_COMP4  float64\n",
       "NU_NOTA_COMP5      NU_NOTA_COMP5  float64\n",
       "NU_NOTA_REDACAO  NU_NOTA_REDACAO  float64\n",
       "Q001                        Q001   object\n",
       "Q002                        Q002   object\n",
       "Q006                        Q006   object\n",
       "Q024                        Q024   object\n",
       "Q025                        Q025   object\n",
       "Q026                        Q026   object\n",
       "Q047                        Q047   object"
      ]
     },
     "execution_count": 19,
     "metadata": {},
     "output_type": "execute_result"
    }
   ],
   "source": [
    "exploracao = pd.DataFrame({'nomes' : train.columns, 'tipos' : train.dtypes})\n",
    "exploracao"
   ]
  },
  {
   "cell_type": "code",
   "execution_count": 20,
   "metadata": {},
   "outputs": [],
   "source": [
    "lista_colunas = list(exploracao[exploracao['tipos']  == 'object']['nomes'])\n",
    "lista_colunas = lista_colunas[1:]"
   ]
  },
  {
   "cell_type": "code",
   "execution_count": 21,
   "metadata": {},
   "outputs": [
    {
     "data": {
      "text/plain": [
       "['TP_SEXO', 'Q001', 'Q002', 'Q006', 'Q024', 'Q025', 'Q026', 'Q047']"
      ]
     },
     "execution_count": 21,
     "metadata": {},
     "output_type": "execute_result"
    }
   ],
   "source": [
    "# lista de variáveis categóricas para get dummies\n",
    "lista_colunas"
   ]
  },
  {
   "cell_type": "code",
   "execution_count": 22,
   "metadata": {},
   "outputs": [],
   "source": [
    "# salvando target\n",
    "IN_TREINEIRO = train['IN_TREINEIRO'].copy()"
   ]
  },
  {
   "cell_type": "code",
   "execution_count": 23,
   "metadata": {},
   "outputs": [],
   "source": [
    "b = pd.get_dummies(train, columns=lista_colunas, drop_first=True, prefix=lista_colunas)"
   ]
  },
  {
   "cell_type": "code",
   "execution_count": 24,
   "metadata": {},
   "outputs": [],
   "source": [
    "# dropa colunas antigas e concatena novas features transformadas\n",
    "train = pd.concat([train.drop(lista_colunas, axis=1), b], axis=1)"
   ]
  },
  {
   "cell_type": "code",
   "execution_count": 25,
   "metadata": {},
   "outputs": [],
   "source": [
    "id_save = train['NU_INSCRICAO'].copy()"
   ]
  },
  {
   "cell_type": "code",
   "execution_count": 26,
   "metadata": {},
   "outputs": [],
   "source": [
    "train.drop('NU_INSCRICAO',axis=1,inplace=True)"
   ]
  },
  {
   "cell_type": "code",
   "execution_count": 27,
   "metadata": {},
   "outputs": [],
   "source": [
    "train.drop('IN_TREINEIRO',axis=1,inplace=True)"
   ]
  },
  {
   "cell_type": "code",
   "execution_count": 28,
   "metadata": {},
   "outputs": [
    {
     "data": {
      "text/plain": [
       "(13730, 76)"
      ]
     },
     "execution_count": 28,
     "metadata": {},
     "output_type": "execute_result"
    }
   ],
   "source": [
    "train.shape"
   ]
  },
  {
   "cell_type": "markdown",
   "metadata": {},
   "source": [
    "## Rebalanceando os dados com imbalanced"
   ]
  },
  {
   "cell_type": "code",
   "execution_count": 29,
   "metadata": {},
   "outputs": [],
   "source": [
    "X_data = train\n",
    "y_data = IN_TREINEIRO"
   ]
  },
  {
   "cell_type": "code",
   "execution_count": 30,
   "metadata": {},
   "outputs": [
    {
     "data": {
      "text/plain": [
       "(13730, 76)"
      ]
     },
     "execution_count": 30,
     "metadata": {},
     "output_type": "execute_result"
    }
   ],
   "source": [
    "X_data.shape"
   ]
  },
  {
   "cell_type": "code",
   "execution_count": 31,
   "metadata": {},
   "outputs": [],
   "source": [
    "imbalanced = pd.DataFrame(np.c_[X_data, y_data], columns=[\"X\" + str(i) for i in range(1, 77)] + [\"target\"])\n",
    "\n",
    "imbalanced.target = imbalanced.target.astype(bool)"
   ]
  },
  {
   "cell_type": "code",
   "execution_count": 32,
   "metadata": {},
   "outputs": [
    {
     "data": {
      "text/html": [
       "<div>\n",
       "<style scoped>\n",
       "    .dataframe tbody tr th:only-of-type {\n",
       "        vertical-align: middle;\n",
       "    }\n",
       "\n",
       "    .dataframe tbody tr th {\n",
       "        vertical-align: top;\n",
       "    }\n",
       "\n",
       "    .dataframe thead th {\n",
       "        text-align: right;\n",
       "    }\n",
       "</style>\n",
       "<table border=\"1\" class=\"dataframe\">\n",
       "  <thead>\n",
       "    <tr style=\"text-align: right;\">\n",
       "      <th></th>\n",
       "      <th>X1</th>\n",
       "      <th>X2</th>\n",
       "      <th>X3</th>\n",
       "      <th>X4</th>\n",
       "      <th>X5</th>\n",
       "      <th>X6</th>\n",
       "      <th>X7</th>\n",
       "      <th>X8</th>\n",
       "      <th>X9</th>\n",
       "      <th>X10</th>\n",
       "      <th>...</th>\n",
       "      <th>X67</th>\n",
       "      <th>X68</th>\n",
       "      <th>X69</th>\n",
       "      <th>X70</th>\n",
       "      <th>X71</th>\n",
       "      <th>X72</th>\n",
       "      <th>X73</th>\n",
       "      <th>X74</th>\n",
       "      <th>X75</th>\n",
       "      <th>X76</th>\n",
       "    </tr>\n",
       "  </thead>\n",
       "  <tbody>\n",
       "    <tr>\n",
       "      <th>0</th>\n",
       "      <td>24.0</td>\n",
       "      <td>1.0</td>\n",
       "      <td>4.0</td>\n",
       "      <td>1.0</td>\n",
       "      <td>1.0</td>\n",
       "      <td>1.0</td>\n",
       "      <td>1.0</td>\n",
       "      <td>1.0</td>\n",
       "      <td>436.3</td>\n",
       "      <td>495.4</td>\n",
       "      <td>...</td>\n",
       "      <td>0.0</td>\n",
       "      <td>0.0</td>\n",
       "      <td>0.0</td>\n",
       "      <td>0.0</td>\n",
       "      <td>0.0</td>\n",
       "      <td>1.0</td>\n",
       "      <td>0.0</td>\n",
       "      <td>0.0</td>\n",
       "      <td>0.0</td>\n",
       "      <td>0.0</td>\n",
       "    </tr>\n",
       "    <tr>\n",
       "      <th>1</th>\n",
       "      <td>17.0</td>\n",
       "      <td>2.0</td>\n",
       "      <td>0.0</td>\n",
       "      <td>2.0</td>\n",
       "      <td>1.0</td>\n",
       "      <td>1.0</td>\n",
       "      <td>1.0</td>\n",
       "      <td>1.0</td>\n",
       "      <td>474.5</td>\n",
       "      <td>544.1</td>\n",
       "      <td>...</td>\n",
       "      <td>0.0</td>\n",
       "      <td>0.0</td>\n",
       "      <td>0.0</td>\n",
       "      <td>0.0</td>\n",
       "      <td>0.0</td>\n",
       "      <td>0.0</td>\n",
       "      <td>0.0</td>\n",
       "      <td>0.0</td>\n",
       "      <td>0.0</td>\n",
       "      <td>0.0</td>\n",
       "    </tr>\n",
       "    <tr>\n",
       "      <th>2</th>\n",
       "      <td>21.0</td>\n",
       "      <td>3.0</td>\n",
       "      <td>0.0</td>\n",
       "      <td>1.0</td>\n",
       "      <td>0.0</td>\n",
       "      <td>0.0</td>\n",
       "      <td>0.0</td>\n",
       "      <td>0.0</td>\n",
       "      <td>0.0</td>\n",
       "      <td>0.0</td>\n",
       "      <td>...</td>\n",
       "      <td>0.0</td>\n",
       "      <td>0.0</td>\n",
       "      <td>0.0</td>\n",
       "      <td>0.0</td>\n",
       "      <td>0.0</td>\n",
       "      <td>0.0</td>\n",
       "      <td>0.0</td>\n",
       "      <td>0.0</td>\n",
       "      <td>0.0</td>\n",
       "      <td>0.0</td>\n",
       "    </tr>\n",
       "    <tr>\n",
       "      <th>3</th>\n",
       "      <td>25.0</td>\n",
       "      <td>1.0</td>\n",
       "      <td>9.0</td>\n",
       "      <td>1.0</td>\n",
       "      <td>0.0</td>\n",
       "      <td>0.0</td>\n",
       "      <td>0.0</td>\n",
       "      <td>0.0</td>\n",
       "      <td>0.0</td>\n",
       "      <td>0.0</td>\n",
       "      <td>...</td>\n",
       "      <td>1.0</td>\n",
       "      <td>0.0</td>\n",
       "      <td>0.0</td>\n",
       "      <td>1.0</td>\n",
       "      <td>0.0</td>\n",
       "      <td>1.0</td>\n",
       "      <td>0.0</td>\n",
       "      <td>0.0</td>\n",
       "      <td>1.0</td>\n",
       "      <td>0.0</td>\n",
       "    </tr>\n",
       "    <tr>\n",
       "      <th>4</th>\n",
       "      <td>28.0</td>\n",
       "      <td>1.0</td>\n",
       "      <td>4.0</td>\n",
       "      <td>1.0</td>\n",
       "      <td>0.0</td>\n",
       "      <td>0.0</td>\n",
       "      <td>0.0</td>\n",
       "      <td>0.0</td>\n",
       "      <td>0.0</td>\n",
       "      <td>0.0</td>\n",
       "      <td>...</td>\n",
       "      <td>0.0</td>\n",
       "      <td>0.0</td>\n",
       "      <td>0.0</td>\n",
       "      <td>0.0</td>\n",
       "      <td>1.0</td>\n",
       "      <td>0.0</td>\n",
       "      <td>0.0</td>\n",
       "      <td>0.0</td>\n",
       "      <td>0.0</td>\n",
       "      <td>0.0</td>\n",
       "    </tr>\n",
       "  </tbody>\n",
       "</table>\n",
       "<p>5 rows × 76 columns</p>\n",
       "</div>"
      ],
      "text/plain": [
       "     X1   X2   X3   X4   X5   X6   X7   X8     X9    X10  ...  X67  X68  X69  \\\n",
       "0  24.0  1.0  4.0  1.0  1.0  1.0  1.0  1.0  436.3  495.4  ...  0.0  0.0  0.0   \n",
       "1  17.0  2.0  0.0  2.0  1.0  1.0  1.0  1.0  474.5  544.1  ...  0.0  0.0  0.0   \n",
       "2  21.0  3.0  0.0  1.0  0.0  0.0  0.0  0.0    0.0    0.0  ...  0.0  0.0  0.0   \n",
       "3  25.0  1.0  9.0  1.0  0.0  0.0  0.0  0.0    0.0    0.0  ...  1.0  0.0  0.0   \n",
       "4  28.0  1.0  4.0  1.0  0.0  0.0  0.0  0.0    0.0    0.0  ...  0.0  0.0  0.0   \n",
       "\n",
       "   X70  X71  X72  X73  X74  X75  X76  \n",
       "0  0.0  0.0  1.0  0.0  0.0  0.0  0.0  \n",
       "1  0.0  0.0  0.0  0.0  0.0  0.0  0.0  \n",
       "2  0.0  0.0  0.0  0.0  0.0  0.0  0.0  \n",
       "3  1.0  0.0  1.0  0.0  0.0  1.0  0.0  \n",
       "4  0.0  1.0  0.0  0.0  0.0  0.0  0.0  \n",
       "\n",
       "[5 rows x 76 columns]"
      ]
     },
     "execution_count": 32,
     "metadata": {},
     "output_type": "execute_result"
    }
   ],
   "source": [
    "imbalanced.iloc[:5, :-1]"
   ]
  },
  {
   "cell_type": "code",
   "execution_count": 33,
   "metadata": {},
   "outputs": [
    {
     "data": {
      "text/plain": [
       "False    11947\n",
       "True      1783\n",
       "Name: target, dtype: int64"
      ]
     },
     "execution_count": 33,
     "metadata": {},
     "output_type": "execute_result"
    }
   ],
   "source": [
    "imbalanced.target.value_counts()"
   ]
  },
  {
   "cell_type": "code",
   "execution_count": 34,
   "metadata": {},
   "outputs": [],
   "source": [
    "pca = PCA(n_components=2)\n",
    "\n",
    "pca.fit(imbalanced.drop([\"target\"], axis=1))\n",
    "\n",
    "imbalanced_pca = pca.transform(imbalanced.drop([\"target\"], axis=1))"
   ]
  },
  {
   "cell_type": "code",
   "execution_count": 35,
   "metadata": {},
   "outputs": [
    {
     "data": {
      "image/png": "[encoded data removed]",
      "text/plain": [
       "<Figure size 432x288 with 1 Axes>"
      ]
     },
     "metadata": {
      "needs_background": "light"
     },
     "output_type": "display_data"
    }
   ],
   "source": [
    "sns.scatterplot(imbalanced_pca[:, 0], imbalanced_pca[:, 1], hue=imbalanced.target);"
   ]
  },
  {
   "cell_type": "code",
   "execution_count": 36,
   "metadata": {},
   "outputs": [],
   "source": [
    "smote = SMOTE()\n",
    "\n",
    "X_smote, y_smote = smote.fit_resample(imbalanced.iloc[:, :-1], imbalanced.target)"
   ]
  },
  {
   "cell_type": "code",
   "execution_count": 37,
   "metadata": {},
   "outputs": [],
   "source": [
    "imbalanced_pca_smote = pca.transform(X_smote)"
   ]
  },
  {
   "cell_type": "code",
   "execution_count": 38,
   "metadata": {},
   "outputs": [
    {
     "data": {
      "image/png": "[encoded data removed]",
      "text/plain": [
       "<Figure size 432x288 with 1 Axes>"
      ]
     },
     "metadata": {
      "needs_background": "light"
     },
     "output_type": "display_data"
    }
   ],
   "source": [
    "sns.scatterplot(x=imbalanced_pca_smote[:, 0], y=imbalanced_pca_smote[:, 1], hue=y_smote);"
   ]
  },
  {
   "cell_type": "code",
   "execution_count": 40,
   "metadata": {},
   "outputs": [
    {
     "data": {
      "text/plain": [
       "1.0"
      ]
     },
     "execution_count": 40,
     "metadata": {},
     "output_type": "execute_result"
    }
   ],
   "source": [
    "# balanceado\n",
    "sum(y_smote == True)/sum(y_smote == False)"
   ]
  },
  {
   "cell_type": "markdown",
   "metadata": {},
   "source": [
    "## Aplicando modelo logistic regression"
   ]
  },
  {
   "cell_type": "code",
   "execution_count": 41,
   "metadata": {},
   "outputs": [],
   "source": [
    "X = X_data\n",
    "y = y_data"
   ]
  },
  {
   "cell_type": "code",
   "execution_count": 42,
   "metadata": {},
   "outputs": [],
   "source": [
    "X_train, X_test, y_train, y_test = train_test_split(X, y, test_size=0.33, random_state=42)\n"
   ]
  },
  {
   "cell_type": "code",
   "execution_count": 43,
   "metadata": {},
   "outputs": [
    {
     "data": {
      "text/plain": [
       "LogisticRegression(multi_class='ovr', n_jobs=1, solver='liblinear')"
      ]
     },
     "execution_count": 43,
     "metadata": {},
     "output_type": "execute_result"
    }
   ],
   "source": [
    "logmodel = LogisticRegression(C=1.0, class_weight=None, dual=False, fit_intercept=True,\n",
    "          intercept_scaling=1, max_iter=100, multi_class='ovr', n_jobs=1,\n",
    "          penalty='l2', random_state=None, solver='liblinear', tol=0.0001,\n",
    "          verbose=0, warm_start=False)\n",
    "logmodel.fit(X_train,y_train)"
   ]
  },
  {
   "cell_type": "code",
   "execution_count": 44,
   "metadata": {},
   "outputs": [],
   "source": [
    "predictions = logmodel.predict(X_test)"
   ]
  },
  {
   "cell_type": "code",
   "execution_count": 45,
   "metadata": {},
   "outputs": [],
   "source": [
    "from sklearn.metrics import classification_report"
   ]
  },
  {
   "cell_type": "code",
   "execution_count": 46,
   "metadata": {},
   "outputs": [
    {
     "name": "stdout",
     "output_type": "stream",
     "text": [
      "              precision    recall  f1-score   support\n",
      "\n",
      "           0       0.99      0.99      0.99      3928\n",
      "           1       0.92      0.97      0.94       603\n",
      "\n",
      "    accuracy                           0.98      4531\n",
      "   macro avg       0.96      0.98      0.97      4531\n",
      "weighted avg       0.98      0.98      0.98      4531\n",
      "\n"
     ]
    }
   ],
   "source": [
    "print(classification_report(y_test,predictions))"
   ]
  },
  {
   "cell_type": "markdown",
   "metadata": {},
   "source": [
    "## Predict"
   ]
  },
  {
   "cell_type": "code",
   "execution_count": 47,
   "metadata": {},
   "outputs": [],
   "source": [
    "NU_INSCRICAO = test['NU_INSCRICAO'].copy()"
   ]
  },
  {
   "cell_type": "code",
   "execution_count": 48,
   "metadata": {},
   "outputs": [
    {
     "data": {
      "text/plain": [
       "['IN_TREINEIRO',\n",
       " 'NU_INSCRICAO',\n",
       " 'NU_IDADE',\n",
       " 'TP_SEXO',\n",
       " 'TP_ST_CONCLUSAO',\n",
       " 'TP_ANO_CONCLUIU',\n",
       " 'TP_ESCOLA',\n",
       " 'TP_PRESENCA_CN',\n",
       " 'TP_PRESENCA_CH',\n",
       " 'TP_PRESENCA_LC',\n",
       " 'TP_PRESENCA_MT',\n",
       " 'NU_NOTA_CN',\n",
       " 'NU_NOTA_CH',\n",
       " 'NU_NOTA_LC',\n",
       " 'NU_NOTA_COMP1',\n",
       " 'NU_NOTA_COMP2',\n",
       " 'NU_NOTA_COMP3',\n",
       " 'NU_NOTA_COMP4',\n",
       " 'NU_NOTA_COMP5',\n",
       " 'NU_NOTA_REDACAO',\n",
       " 'Q001',\n",
       " 'Q002',\n",
       " 'Q006',\n",
       " 'Q024',\n",
       " 'Q025',\n",
       " 'Q026',\n",
       " 'Q047']"
      ]
     },
     "execution_count": 48,
     "metadata": {},
     "output_type": "execute_result"
    }
   ],
   "source": [
    "# buscando as features utilizadas para o treino\n",
    "exploracao['nomes'].tolist()"
   ]
  },
  {
   "cell_type": "code",
   "execution_count": 49,
   "metadata": {},
   "outputs": [],
   "source": [
    "feat_trained = ['NU_INSCRICAO',\n",
    " 'NU_IDADE',\n",
    " 'TP_SEXO',\n",
    " 'TP_ST_CONCLUSAO',\n",
    " 'TP_ANO_CONCLUIU',\n",
    " 'TP_ESCOLA',\n",
    " 'TP_PRESENCA_CN',\n",
    " 'TP_PRESENCA_CH',\n",
    " 'TP_PRESENCA_LC',\n",
    " 'TP_PRESENCA_MT',\n",
    "'TP_STATUS_REDACAO'              ,\n",
    " 'NU_NOTA_CN',\n",
    " 'NU_NOTA_CH',\n",
    " 'NU_NOTA_LC',\n",
    " 'NU_NOTA_COMP1',\n",
    " 'NU_NOTA_COMP2',\n",
    " 'NU_NOTA_COMP3',\n",
    " 'NU_NOTA_COMP4',\n",
    " 'NU_NOTA_COMP5',\n",
    " 'NU_NOTA_REDACAO',\n",
    " 'Q001',\n",
    " 'Q002',\n",
    " 'Q006',\n",
    " 'Q024',\n",
    " 'Q025',\n",
    " 'Q026',\n",
    " 'Q047']"
   ]
  },
  {
   "cell_type": "code",
   "execution_count": 50,
   "metadata": {},
   "outputs": [],
   "source": [
    "test = test[feat_trained]"
   ]
  },
  {
   "cell_type": "code",
   "execution_count": 51,
   "metadata": {},
   "outputs": [
    {
     "data": {
      "text/plain": [
       "NU_INSCRICAO            0\n",
       "NU_IDADE                0\n",
       "TP_SEXO                 0\n",
       "TP_ST_CONCLUSAO         0\n",
       "TP_ANO_CONCLUIU         0\n",
       "TP_ESCOLA               0\n",
       "TP_PRESENCA_CN          0\n",
       "TP_PRESENCA_CH          0\n",
       "TP_PRESENCA_LC          0\n",
       "TP_PRESENCA_MT          0\n",
       "TP_STATUS_REDACAO    1170\n",
       "NU_NOTA_CN           1112\n",
       "NU_NOTA_CH           1112\n",
       "NU_NOTA_LC           1170\n",
       "NU_NOTA_COMP1        1170\n",
       "NU_NOTA_COMP2        1170\n",
       "NU_NOTA_COMP3        1170\n",
       "NU_NOTA_COMP4        1170\n",
       "NU_NOTA_COMP5        1170\n",
       "NU_NOTA_REDACAO      1170\n",
       "Q001                    0\n",
       "Q002                    0\n",
       "Q006                    0\n",
       "Q024                    0\n",
       "Q025                    0\n",
       "Q026                    0\n",
       "Q047                    0\n",
       "dtype: int64"
      ]
     },
     "execution_count": 51,
     "metadata": {},
     "output_type": "execute_result"
    }
   ],
   "source": [
    "test.isna().sum()"
   ]
  },
  {
   "cell_type": "code",
   "execution_count": 52,
   "metadata": {},
   "outputs": [],
   "source": [
    "# setando zero para alunos que faltaram a prova\n",
    "test['NU_NOTA_CN'].loc[test.TP_PRESENCA_CN == 0] = 0\n",
    "test['NU_NOTA_CH'].loc[test.TP_PRESENCA_CH == 0] = 0\n",
    "test['NU_NOTA_LC'].loc[test.TP_PRESENCA_LC == 0] = 0\n",
    "test['NU_NOTA_REDACAO'].loc[test.TP_STATUS_REDACAO ==4] = 0\n",
    "test['NU_NOTA_COMP1'].loc[test.TP_STATUS_REDACAO==4] = 0\n",
    "test['NU_NOTA_COMP2'].loc[test.TP_STATUS_REDACAO==4] = 0\n",
    "test['NU_NOTA_COMP3'].loc[test.TP_STATUS_REDACAO==4] = 0\n",
    "test['NU_NOTA_COMP4'].loc[test.TP_STATUS_REDACAO==4] = 0\n",
    "test['NU_NOTA_COMP5'].loc[test.TP_STATUS_REDACAO==4] = 0"
   ]
  },
  {
   "cell_type": "code",
   "execution_count": 53,
   "metadata": {},
   "outputs": [],
   "source": [
    "# preenchendo com zero os faltantes\n",
    "test = test.fillna(0)"
   ]
  },
  {
   "cell_type": "code",
   "execution_count": 54,
   "metadata": {},
   "outputs": [],
   "source": [
    "# esta features não estava no treino, só foi importada para fazer a imputação dos faltantes NU_NOTA_REDACAO\n",
    "test.drop(\"TP_STATUS_REDACAO\",axis=1,inplace=True)"
   ]
  },
  {
   "cell_type": "code",
   "execution_count": 55,
   "metadata": {},
   "outputs": [],
   "source": [
    "# get dummies da mesma lista utilizada para treino\n",
    "a = pd.get_dummies(test, columns=lista_colunas, drop_first=True, prefix=lista_colunas)"
   ]
  },
  {
   "cell_type": "code",
   "execution_count": 56,
   "metadata": {},
   "outputs": [],
   "source": [
    "# concatena a nova lista de features e dropa a antiga\n",
    "test = pd.concat([test.drop(lista_colunas, axis=1), a], axis=1)"
   ]
  },
  {
   "cell_type": "code",
   "execution_count": 57,
   "metadata": {},
   "outputs": [],
   "source": [
    "test.drop('NU_INSCRICAO',axis=1,inplace=True)"
   ]
  },
  {
   "cell_type": "code",
   "execution_count": 58,
   "metadata": {},
   "outputs": [
    {
     "data": {
      "text/plain": [
       "(4570, 76)"
      ]
     },
     "execution_count": 58,
     "metadata": {},
     "output_type": "execute_result"
    }
   ],
   "source": [
    "# conferindo se há a mesma quantidade de features no teste e treino\n",
    "test.shape"
   ]
  },
  {
   "cell_type": "code",
   "execution_count": null,
   "metadata": {},
   "outputs": [],
   "source": []
  }
 ],
 "metadata": {
  "kernelspec": {
   "display_name": "Python 3",
   "language": "python",
   "name": "python3"
  },
  "language_info": {
   "codemirror_mode": {
    "name": "ipython",
    "version": 3
   },
   "file_extension": ".py",
   "mimetype": "text/x-python",
   "name": "python",
   "nbconvert_exporter": "python",
   "pygments_lexer": "ipython3",
   "version": "3.7.5"
  }
 },
 "nbformat": 4,
 "nbformat_minor": 4
}
